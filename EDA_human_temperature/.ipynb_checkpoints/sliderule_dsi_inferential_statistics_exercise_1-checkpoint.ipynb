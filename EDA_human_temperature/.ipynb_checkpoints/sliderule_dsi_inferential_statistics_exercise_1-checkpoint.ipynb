{
 "cells": [
  {
   "cell_type": "markdown",
   "metadata": {},
   "source": [
    "# What is the True Normal Human Body Temperature? \n",
    "\n",
    "#### Background\n",
    "\n",
    "The mean normal body temperature was held to be 37$^{\\circ}$C or 98.6$^{\\circ}$F for more than 120 years since it was first conceptualized and reported by Carl Wunderlich in a famous 1868 book. But, is this value statistically correct?"
   ]
  },
  {
   "cell_type": "markdown",
   "metadata": {},
   "source": [
    "<h3>Exercises</h3>\n",
    "\n",
    "<p>In this exercise, you will analyze a dataset of human body temperatures and employ the concepts of hypothesis testing, confidence intervals, and statistical significance.</p>\n",
    "\n",
    "<p>Answer the following questions <b>in this notebook below and submit to your Github account</b>.</p> \n",
    "\n",
    "<ol>\n",
    "<li>  Is the distribution of body temperatures normal? \n",
    "    <ul>\n",
    "    <li> Although this is not a requirement for the Central Limit Theorem to hold (read the introduction on Wikipedia's page about the CLT carefully: https://en.wikipedia.org/wiki/Central_limit_theorem), it gives us some peace of mind that the population may also be normally distributed if we assume that this sample is representative of the population.\n",
    "    <li> Think about the way you're going to check for the normality of the distribution. Graphical methods are usually used first, but there are also other ways: https://en.wikipedia.org/wiki/Normality_test\n",
    "    </ul>\n",
    "<li>  Is the sample size large? Are the observations independent?\n",
    "    <ul>\n",
    "    <li> Remember that this is a condition for the Central Limit Theorem, and hence the statistical tests we are using, to apply.\n",
    "    </ul>\n",
    "<li>  Is the true population mean really 98.6 degrees F?\n",
    "    <ul>\n",
    "    <li> First, try a bootstrap hypothesis test.\n",
    "    <li> Now, let's try frequentist statistical testing. Would you use a one-sample or two-sample test? Why?\n",
    "    <li> In this situation, is it appropriate to use the $t$ or $z$ statistic? \n",
    "    <li> Now try using the other test. How is the result be different? Why?\n",
    "    </ul>\n",
    "<li>  Draw a small sample of size 10 from the data and repeat both frequentist tests. \n",
    "    <ul>\n",
    "    <li> Which one is the correct one to use? \n",
    "    <li> What do you notice? What does this tell you about the difference in application of the $t$ and $z$ statistic?\n",
    "    </ul>\n",
    "<li>  At what temperature should we consider someone's temperature to be \"abnormal\"?\n",
    "    <ul>\n",
    "    <li> As in the previous example, try calculating everything using the boostrap approach, as well as the frequentist approach.\n",
    "    <li> Start by computing the margin of error and confidence interval. When calculating the confidence interval, keep in mind that you should use the appropriate formula for one draw, and not N draws.\n",
    "    </ul>\n",
    "<li>  Is there a significant difference between males and females in normal temperature?\n",
    "    <ul>\n",
    "    <li> What testing approach did you use and why?\n",
    "    <li> Write a story with your conclusion in the context of the original problem.\n",
    "    </ul>\n",
    "</ol>\n",
    "\n",
    "You can include written notes in notebook cells using Markdown: \n",
    "   - In the control panel at the top, choose Cell > Cell Type > Markdown\n",
    "   - Markdown syntax: http://nestacms.com/docs/creating-content/markdown-cheat-sheet\n",
    "\n",
    "#### Resources\n",
    "\n",
    "+ Information and data sources: http://www.amstat.org/publications/jse/datasets/normtemp.txt, http://www.amstat.org/publications/jse/jse_data_archive.htm\n",
    "+ Markdown syntax: http://nestacms.com/docs/creating-content/markdown-cheat-sheet\n",
    "\n",
    "****"
   ]
  },
  {
   "cell_type": "code",
   "execution_count": 52,
   "metadata": {
    "collapsed": true
   },
   "outputs": [],
   "source": [
    "import pandas as pd\n",
    "import matplotlib.pyplot as plt\n",
    "import numpy as np\n",
    "from scipy import stats\n",
    "\n",
    "df = pd.read_csv('data/human_body_temperature.csv')"
   ]
  },
  {
   "cell_type": "markdown",
   "metadata": {},
   "source": [
    "## Normality"
   ]
  },
  {
   "cell_type": "code",
   "execution_count": 53,
   "metadata": {},
   "outputs": [
    {
     "data": {
      "image/png": "[encoded data removed]",
      "text/plain": [
       "<matplotlib.figure.Figure at 0x28fd33dc470>"
      ]
     },
     "metadata": {},
     "output_type": "display_data"
    }
   ],
   "source": [
    "plt.hist(df['temperature'], bins=5)\n",
    "plt.xlabel('Temperature (F)')\n",
    "plt.ylabel('Count')\n",
    "plt.show()"
   ]
  },
  {
   "cell_type": "code",
   "execution_count": 54,
   "metadata": {},
   "outputs": [
    {
     "name": "stdout",
     "output_type": "stream",
     "text": [
      "mean temperature = 98.25\n",
      "minimum z = -2.67\n",
      "maximum z = 3.49\n"
     ]
    }
   ],
   "source": [
    "temp_data = df['temperature']\n",
    "\n",
    "mean_t = np.mean(temp_data)\n",
    "min_t = np.min(temp_data)\n",
    "max_t = np.max(temp_data)\n",
    "std_t = np.std(temp_data)\n",
    "\n",
    "low_z = (min_t-mean_t)/std_t\n",
    "high_z = (max_t-mean_t)/std_t\n",
    "\n",
    "print('mean temperature =', mean_t.round(2))\n",
    "print('minimum z =',str(low_z.round(2)))\n",
    "print('maximum z =',str(high_z.round(2)))"
   ]
  },
  {
   "cell_type": "markdown",
   "metadata": {},
   "source": [
    "Based on the histogram, the distribution looks normal. But when you compared the min and max temperatures to the mean, the maximum temperature is more than 3 standard deviations (3.5) from the mean. This means that the sample is not normally distributed. This shouldn't be too much of a problem though because the sample size should be large enough to compensate."
   ]
  },
  {
   "cell_type": "markdown",
   "metadata": {},
   "source": [
    "## Sample Size and Independence"
   ]
  },
  {
   "cell_type": "code",
   "execution_count": 55,
   "metadata": {},
   "outputs": [
    {
     "name": "stdout",
     "output_type": "stream",
     "text": [
      "Total N =  130\n",
      "Male N =  65\n",
      "Female N =  65\n"
     ]
    }
   ],
   "source": [
    "n = len(df)\n",
    "n_male = len(df[df.gender == 'M'])\n",
    "n_female = len(df[df.gender =='F'])\n",
    "\n",
    "print(\"Total N = \", n)\n",
    "print(\"Male N = \", n_male)\n",
    "print(\"Female N = \", n_female)"
   ]
  },
  {
   "cell_type": "markdown",
   "metadata": {},
   "source": [
    "The sample size is 130. Additionally we have 65 males and 65 females in the sample. This is sufficiently large enough of a sample and far below 10% of the total population of humans. According to the documentation accompanying the data, these data are a random sample. Based on this, we can conclude that the sample size is both large enough to continue an analysis and that the data are independent."
   ]
  },
  {
   "cell_type": "markdown",
   "metadata": {},
   "source": [
    "## Is the True Population Mean 98.6 degrees F?\n",
    "\n",
    "### Bootstrap Approach"
   ]
  },
  {
   "cell_type": "code",
   "execution_count": 56,
   "metadata": {},
   "outputs": [
    {
     "name": "stdout",
     "output_type": "stream",
     "text": [
      "p-value = 0.0\n",
      "95% confidence interval: [98.12153846 98.37076923]\n"
     ]
    }
   ],
   "source": [
    "np.random.seed(10)\n",
    "test_temp = 98.6\n",
    "\n",
    "def bs_rep_1d(data, func):\n",
    "    bs_sample = np.random.choice(data, len(data))\n",
    "    return func(bs_sample)\n",
    "\n",
    "def get_bs_reps(data, func, size):\n",
    "    bs_reps = np.empty(size)\n",
    "    for i in range(size):\n",
    "        bs_reps[i] = bs_rep_1d(data, func)\n",
    "    return bs_reps\n",
    "        \n",
    "bs_replicates = get_bs_reps(temp_data, np.mean, 10000)\n",
    "\n",
    "conf_int = np.percentile(bs_replicates, [2.5, 97.5])\n",
    "p = sum(bs_replicates >= test_temp)/len(bs_replicates)\n",
    "\n",
    "print('p-value =',p)\n",
    "print('95% confidence interval:',conf_int)"
   ]
  },
  {
   "cell_type": "markdown",
   "metadata": {},
   "source": [
    "Based on the bootstrap method, with 10,000 replicates, I would concluded that the actual population mean is not 98.6 degrees F. None of the 10,000 bootstrap samples had a mean greater than or equal to 98.6. The 95% confidence interval of mean temperatures ranges from 98.12 to 98.37 degrees F."
   ]
  },
  {
   "cell_type": "markdown",
   "metadata": {},
   "source": [
    "### Frequentist Approach\n",
    "\n",
    "For this data, we would use a one-sided test. We are looking to see if a sample is likely to be produced by a population with a specific mean, in this case 98.6 degrees F.\n",
    "\n",
    "In this situation, it we would use the t-statistic rather than the z-statistic. This is because the standard deviation of the population is unknown.\n",
    "#### T-Test"
   ]
  },
  {
   "cell_type": "code",
   "execution_count": 57,
   "metadata": {},
   "outputs": [
    {
     "name": "stdout",
     "output_type": "stream",
     "text": [
      "t = -5.45482 p-value = 2.41063e-07\n"
     ]
    }
   ],
   "source": [
    "t, p = stats.ttest_1samp(temp_data, test_temp)\n",
    "\n",
    "print('t = %g p-value = %g' %(t,p))\n"
   ]
  },
  {
   "cell_type": "markdown",
   "metadata": {},
   "source": [
    "#### Z-Test"
   ]
  },
  {
   "cell_type": "code",
   "execution_count": 58,
   "metadata": {},
   "outputs": [
    {
     "name": "stdout",
     "output_type": "stream",
     "text": [
      "z = -5.47593 p-value = 4.35232e-08\n"
     ]
    }
   ],
   "source": [
    "se = std_t/np.sqrt(n)\n",
    "z = (mean_t - test_temp)/se\n",
    "p = 2*(1-stats.norm.cdf(abs(z)))\n",
    "\n",
    "print('z = %g p-value = %g' %(z,p))"
   ]
  },
  {
   "cell_type": "markdown",
   "metadata": {},
   "source": [
    "The results of the z-test result in an even smaler p-value than the t-test. This is becuase the crtical number for the z-test is smaller than for the t-test. This means that more of the curve falls beyond the critical value resulting in a smaller p-value.\n",
    "\n",
    "Either way, based on both approaches we would reject the null hypothesis (that the true mean body temperature is 98.6 degrees F). "
   ]
  },
  {
   "cell_type": "markdown",
   "metadata": {},
   "source": [
    "#### Small Sample Size"
   ]
  },
  {
   "cell_type": "code",
   "execution_count": 59,
   "metadata": {},
   "outputs": [
    {
     "name": "stdout",
     "output_type": "stream",
     "text": [
      "t = -2.80306 p-value = 0.0206094\n",
      "z = -2.95468 p-value = 0.00312989\n"
     ]
    }
   ],
   "source": [
    "sample_10 = np.random.choice(temp_data, 10)\n",
    "\n",
    "t,p = stats.ttest_1samp(sample_10, test_temp)\n",
    "\n",
    "print('t = %g p-value = %g' %(t,p))\n",
    "\n",
    "mean_s10 = np.mean(sample_10)\n",
    "std_s10 = np.std(sample_10)\n",
    "se_s10 = std_s10/np.sqrt(10)\n",
    "\n",
    "z = (mean_s10-98.6 )/se_s10\n",
    "\n",
    "p = 2*(1-stats.norm.cdf(abs(z)))\n",
    "\n",
    "print('z = %g p-value = %g' %(z, p))\n",
    "\n"
   ]
  },
  {
   "cell_type": "markdown",
   "metadata": {},
   "source": [
    "Becuase the sample size is so small, our p-values for both the t-test and the z-test are much larger. While they are both below an alpha of 0.05, meaning we would reject the null, they are much closer to that value. While both tests end up with rejection of the null hypothesis, the p-value based on the z-test is almost an order of magnitude smaller than the p-value of the t-test. This tells me that the t-test is much more sensitive to small sample sizes than the z-test."
   ]
  },
  {
   "cell_type": "markdown",
   "metadata": {},
   "source": [
    "## Abnormal Temperatures\n",
    "### Bootstrap Method"
   ]
  },
  {
   "cell_type": "code",
   "execution_count": 60,
   "metadata": {},
   "outputs": [
    {
     "name": "stdout",
     "output_type": "stream",
     "text": [
      "95% confidence interval: [98.12153846 98.37076923]\n"
     ]
    }
   ],
   "source": [
    "conf_int = np.percentile(bs_replicates, [2.5, 97.5])\n",
    "\n",
    "print('95% confidence interval:',conf_int)"
   ]
  },
  {
   "cell_type": "markdown",
   "metadata": {},
   "source": [
    "Any value outside of this range would be considered abnormal\n",
    "\n",
    "### Frequentist Method"
   ]
  },
  {
   "cell_type": "code",
   "execution_count": 61,
   "metadata": {},
   "outputs": [
    {
     "name": "stdout",
     "output_type": "stream",
     "text": [
      "95% confidence interval: (96.80420001613982, 99.69426152232168)\n"
     ]
    }
   ],
   "source": [
    "deg_f = len(temp_data)-1\n",
    "\n",
    "conf_int = stats.t.interval(0.95, deg_f, loc=mean_t, scale=std_t)\n",
    "\n",
    "print('95% confidence interval:',conf_int)"
   ]
  },
  {
   "cell_type": "markdown",
   "metadata": {},
   "source": [
    "According to the frequentist approach, any value lower that 96.8 or higher than 99.7 should be considered abnormal."
   ]
  },
  {
   "cell_type": "markdown",
   "metadata": {},
   "source": [
    "## Are Male and Femal Temperatures Different?"
   ]
  },
  {
   "cell_type": "code",
   "execution_count": 62,
   "metadata": {},
   "outputs": [
    {
     "data": {
      "image/png": "[encoded data removed]",
      "text/plain": [
       "<matplotlib.figure.Figure at 0x28fd3483358>"
      ]
     },
     "metadata": {},
     "output_type": "display_data"
    }
   ],
   "source": [
    "def ecdf(data):\n",
    "    n=len(data)\n",
    "    x =np.sort(data)\n",
    "    y= np.arange(1, n+1)/n\n",
    "    return x,y\n",
    "\n",
    "male_temp =  df[df.gender=='M']['temperature']\n",
    "female_temp = df[df.gender=='F']['temperature']\n",
    "\n",
    "male_x, male_y = ecdf(male_temp)\n",
    "female_x, female_y = ecdf(female_temp)\n",
    "\n",
    "plt.plot(male_x, male_y, marker='.', linestyle='none')\n",
    "plt.plot(female_x, female_y, marker='.', linestyle='none')\n",
    "plt.xlabel('Body Temperature (F)')\n",
    "plt.ylabel('ECDF')\n",
    "plt.title('Male vs. Female Body Temp ECDF')\n",
    "plt.legend(['Male', 'Female'], loc='upper left')\n",
    "plt.show()"
   ]
  },
  {
   "cell_type": "markdown",
   "metadata": {},
   "source": [
    "Based on the plots of the ECDFs, it looks like there may be a difference between temperatures of males and females. I will do a bootstrap analysis to see if there is a statistically significant difference in temperatures between the genders. In this case we will set the null hypothesis to be that there is no difference in temperature between genders. "
   ]
  },
  {
   "cell_type": "code",
   "execution_count": 63,
   "metadata": {},
   "outputs": [
    {
     "name": "stdout",
     "output_type": "stream",
     "text": [
      "p-value: 0.0123\n"
     ]
    }
   ],
   "source": [
    "mean_diff = female_temp.mean()-male_temp.mean()\n",
    "\n",
    "combined_mean = temp_data.mean()\n",
    "male_shifted = male_temp - male_temp.mean() + combined_mean\n",
    "female_shifted = female_temp - female_temp.mean() + combined_mean\n",
    "\n",
    "bs_reps_male = get_bs_reps(male_shifted, np.mean, 10000)\n",
    "bs_reps_female = get_bs_reps(female_shifted, np.mean, 10000)\n",
    "\n",
    "bs_diff_reps = bs_reps_female - bs_reps_male\n",
    "\n",
    "p = np.sum(bs_diff_reps >= mean_diff)/len(bs_diff_reps)\n",
    "\n",
    "print('p-value:', p)"
   ]
  },
  {
   "cell_type": "markdown",
   "metadata": {},
   "source": [
    "I chose to do a bootstrapping method for this because, although 130 samples is large enough to satisfy the central limit theorem, there are only 65 male and 65 female samples. With such small sample sizes I felt that it would be better in use 10,000 bootstrap samples in order to better assess this problem. Based on the results of the bootstrap analysis. I would reject the null hypothesis. \n",
    "\n",
    "It is interesting to see that the body temperature of men is statistically significantly lower than that of women. When put in context of the larger question, whether the true average temperature is 98.6, this add more evidence that the average temperature is not 98.6 degrees F. If more samples were taken and there came to be a difference in the number of men and women sampled, it would be interesting to see how much higher the measured mean temperature would be. "
   ]
  }
 ],
 "metadata": {
  "kernelspec": {
   "display_name": "Python 3",
   "language": "python",
   "name": "python3"
  },
  "language_info": {
   "codemirror_mode": {
    "name": "ipython",
    "version": 3
   },
   "file_extension": ".py",
   "mimetype": "text/x-python",
   "name": "python",
   "nbconvert_exporter": "python",
   "pygments_lexer": "ipython3",
   "version": "3.6.3"
  }
 },
 "nbformat": 4,
 "nbformat_minor": 1
}

{
 "cells": [
  {
   "cell_type": "markdown",
   "metadata": {},
   "source": [
    "# Examining Racial Discrimination in the US Job Market\n",
    "\n",
    "### Background\n",
    "Racial discrimination continues to be pervasive in cultures throughout the world. Researchers examined the level of racial discrimination in the United States labor market by randomly assigning identical résumés to black-sounding or white-sounding names and observing the impact on requests for interviews from employers.\n",
    "\n",
    "### Data\n",
    "In the dataset provided, each row represents a resume. The 'race' column has two values, 'b' and 'w', indicating black-sounding and white-sounding. The column 'call' has two values, 1 and 0, indicating whether the resume received a call from employers or not.\n",
    "\n",
    "Note that the 'b' and 'w' values in race are assigned randomly to the resumes when presented to the employer."
   ]
  },
  {
   "cell_type": "markdown",
   "metadata": {},
   "source": [
    "<div class=\"span5 alert alert-info\">\n",
    "### Exercises\n",
    "You will perform a statistical analysis to establish whether race has a significant impact on the rate of callbacks for resumes.\n",
    "\n",
    "Answer the following questions **in this notebook below and submit to your Github account**. \n",
    "\n",
    "   1. What test is appropriate for this problem? Does CLT apply?\n",
    "   2. What are the null and alternate hypotheses?\n",
    "   3. Compute margin of error, confidence interval, and p-value. Try using both the bootstrapping and the frequentist statistical approaches.\n",
    "   4. Write a story describing the statistical significance in the context or the original problem.\n",
    "   5. Does your analysis mean that race/name is the most important factor in callback success? Why or why not? If not, how would you amend your analysis?\n",
    "\n",
    "You can include written notes in notebook cells using Markdown: \n",
    "   - In the control panel at the top, choose Cell > Cell Type > Markdown\n",
    "   - Markdown syntax: http://nestacms.com/docs/creating-content/markdown-cheat-sheet\n",
    "\n",
    "\n",
    "#### Resources\n",
    "+ Experiment information and data source: http://www.povertyactionlab.org/evaluation/discrimination-job-market-united-states\n",
    "+ Scipy statistical methods: http://docs.scipy.org/doc/scipy/reference/stats.html \n",
    "+ Markdown syntax: http://nestacms.com/docs/creating-content/markdown-cheat-sheet\n",
    "+ Formulas for the Bernoulli distribution: https://en.wikipedia.org/wiki/Bernoulli_distribution\n",
    "</div>\n",
    "****"
   ]
  },
  {
   "cell_type": "code",
   "execution_count": 34,
   "metadata": {
    "collapsed": true
   },
   "outputs": [],
   "source": [
    "import pandas as pd\n",
    "import numpy as np\n",
    "from scipy import stats\n",
    "\n",
    "np.random.seed(24)"
   ]
  },
  {
   "cell_type": "code",
   "execution_count": 28,
   "metadata": {
    "collapsed": true
   },
   "outputs": [],
   "source": [
    "data = pd.io.stata.read_stata('data/us_job_market_discrimination.dta')"
   ]
  },
  {
   "cell_type": "code",
   "execution_count": 29,
   "metadata": {},
   "outputs": [
    {
     "data": {
      "text/plain": [
       "235.0"
      ]
     },
     "execution_count": 29,
     "metadata": {},
     "output_type": "execute_result"
    }
   ],
   "source": [
    "# number of callbacks for black-sounding names\n",
    "sum(data[data.race=='w'].call)"
   ]
  },
  {
   "cell_type": "code",
   "execution_count": 30,
   "metadata": {},
   "outputs": [
    {
     "data": {
      "text/html": [
       "<div>\n",
       "<style scoped>\n",
       "    .dataframe tbody tr th:only-of-type {\n",
       "        vertical-align: middle;\n",
       "    }\n",
       "\n",
       "    .dataframe tbody tr th {\n",
       "        vertical-align: top;\n",
       "    }\n",
       "\n",
       "    .dataframe thead th {\n",
       "        text-align: right;\n",
       "    }\n",
       "</style>\n",
       "<table border=\"1\" class=\"dataframe\">\n",
       "  <thead>\n",
       "    <tr style=\"text-align: right;\">\n",
       "      <th></th>\n",
       "      <th>id</th>\n",
       "      <th>ad</th>\n",
       "      <th>education</th>\n",
       "      <th>ofjobs</th>\n",
       "      <th>yearsexp</th>\n",
       "      <th>honors</th>\n",
       "      <th>volunteer</th>\n",
       "      <th>military</th>\n",
       "      <th>empholes</th>\n",
       "      <th>occupspecific</th>\n",
       "      <th>...</th>\n",
       "      <th>compreq</th>\n",
       "      <th>orgreq</th>\n",
       "      <th>manuf</th>\n",
       "      <th>transcom</th>\n",
       "      <th>bankreal</th>\n",
       "      <th>trade</th>\n",
       "      <th>busservice</th>\n",
       "      <th>othservice</th>\n",
       "      <th>missind</th>\n",
       "      <th>ownership</th>\n",
       "    </tr>\n",
       "  </thead>\n",
       "  <tbody>\n",
       "    <tr>\n",
       "      <th>0</th>\n",
       "      <td>b</td>\n",
       "      <td>1</td>\n",
       "      <td>4</td>\n",
       "      <td>2</td>\n",
       "      <td>6</td>\n",
       "      <td>0</td>\n",
       "      <td>0</td>\n",
       "      <td>0</td>\n",
       "      <td>1</td>\n",
       "      <td>17</td>\n",
       "      <td>...</td>\n",
       "      <td>1.0</td>\n",
       "      <td>0.0</td>\n",
       "      <td>1.0</td>\n",
       "      <td>0.0</td>\n",
       "      <td>0.0</td>\n",
       "      <td>0.0</td>\n",
       "      <td>0.0</td>\n",
       "      <td>0.0</td>\n",
       "      <td>0.0</td>\n",
       "      <td></td>\n",
       "    </tr>\n",
       "    <tr>\n",
       "      <th>1</th>\n",
       "      <td>b</td>\n",
       "      <td>1</td>\n",
       "      <td>3</td>\n",
       "      <td>3</td>\n",
       "      <td>6</td>\n",
       "      <td>0</td>\n",
       "      <td>1</td>\n",
       "      <td>1</td>\n",
       "      <td>0</td>\n",
       "      <td>316</td>\n",
       "      <td>...</td>\n",
       "      <td>1.0</td>\n",
       "      <td>0.0</td>\n",
       "      <td>1.0</td>\n",
       "      <td>0.0</td>\n",
       "      <td>0.0</td>\n",
       "      <td>0.0</td>\n",
       "      <td>0.0</td>\n",
       "      <td>0.0</td>\n",
       "      <td>0.0</td>\n",
       "      <td></td>\n",
       "    </tr>\n",
       "    <tr>\n",
       "      <th>2</th>\n",
       "      <td>b</td>\n",
       "      <td>1</td>\n",
       "      <td>4</td>\n",
       "      <td>1</td>\n",
       "      <td>6</td>\n",
       "      <td>0</td>\n",
       "      <td>0</td>\n",
       "      <td>0</td>\n",
       "      <td>0</td>\n",
       "      <td>19</td>\n",
       "      <td>...</td>\n",
       "      <td>1.0</td>\n",
       "      <td>0.0</td>\n",
       "      <td>1.0</td>\n",
       "      <td>0.0</td>\n",
       "      <td>0.0</td>\n",
       "      <td>0.0</td>\n",
       "      <td>0.0</td>\n",
       "      <td>0.0</td>\n",
       "      <td>0.0</td>\n",
       "      <td></td>\n",
       "    </tr>\n",
       "    <tr>\n",
       "      <th>3</th>\n",
       "      <td>b</td>\n",
       "      <td>1</td>\n",
       "      <td>3</td>\n",
       "      <td>4</td>\n",
       "      <td>6</td>\n",
       "      <td>0</td>\n",
       "      <td>1</td>\n",
       "      <td>0</td>\n",
       "      <td>1</td>\n",
       "      <td>313</td>\n",
       "      <td>...</td>\n",
       "      <td>1.0</td>\n",
       "      <td>0.0</td>\n",
       "      <td>1.0</td>\n",
       "      <td>0.0</td>\n",
       "      <td>0.0</td>\n",
       "      <td>0.0</td>\n",
       "      <td>0.0</td>\n",
       "      <td>0.0</td>\n",
       "      <td>0.0</td>\n",
       "      <td></td>\n",
       "    </tr>\n",
       "    <tr>\n",
       "      <th>4</th>\n",
       "      <td>b</td>\n",
       "      <td>1</td>\n",
       "      <td>3</td>\n",
       "      <td>3</td>\n",
       "      <td>22</td>\n",
       "      <td>0</td>\n",
       "      <td>0</td>\n",
       "      <td>0</td>\n",
       "      <td>0</td>\n",
       "      <td>313</td>\n",
       "      <td>...</td>\n",
       "      <td>1.0</td>\n",
       "      <td>1.0</td>\n",
       "      <td>0.0</td>\n",
       "      <td>0.0</td>\n",
       "      <td>0.0</td>\n",
       "      <td>0.0</td>\n",
       "      <td>0.0</td>\n",
       "      <td>1.0</td>\n",
       "      <td>0.0</td>\n",
       "      <td>Nonprofit</td>\n",
       "    </tr>\n",
       "  </tbody>\n",
       "</table>\n",
       "<p>5 rows × 65 columns</p>\n",
       "</div>"
      ],
      "text/plain": [
       "  id ad  education  ofjobs  yearsexp  honors  volunteer  military  empholes  \\\n",
       "0  b  1          4       2         6       0          0         0         1   \n",
       "1  b  1          3       3         6       0          1         1         0   \n",
       "2  b  1          4       1         6       0          0         0         0   \n",
       "3  b  1          3       4         6       0          1         0         1   \n",
       "4  b  1          3       3        22       0          0         0         0   \n",
       "\n",
       "   occupspecific    ...      compreq  orgreq  manuf  transcom  bankreal trade  \\\n",
       "0             17    ...          1.0     0.0    1.0       0.0       0.0   0.0   \n",
       "1            316    ...          1.0     0.0    1.0       0.0       0.0   0.0   \n",
       "2             19    ...          1.0     0.0    1.0       0.0       0.0   0.0   \n",
       "3            313    ...          1.0     0.0    1.0       0.0       0.0   0.0   \n",
       "4            313    ...          1.0     1.0    0.0       0.0       0.0   0.0   \n",
       "\n",
       "  busservice othservice  missind  ownership  \n",
       "0        0.0        0.0      0.0             \n",
       "1        0.0        0.0      0.0             \n",
       "2        0.0        0.0      0.0             \n",
       "3        0.0        0.0      0.0             \n",
       "4        0.0        1.0      0.0  Nonprofit  \n",
       "\n",
       "[5 rows x 65 columns]"
      ]
     },
     "execution_count": 30,
     "metadata": {},
     "output_type": "execute_result"
    }
   ],
   "source": [
    "data.head()"
   ]
  },
  {
   "cell_type": "markdown",
   "metadata": {
    "collapsed": true
   },
   "source": [
    "For this question, botht a bootstrap analysis and a z-test would be appropriate to answer the question of whether there is a difference in call backs for black- or white-sounding names. The CLT will apply to this scenario because we have a large sample size of independent measurements.\n",
    "\n",
    "$H_{0}$: Probability of callback for white names = Probability of callback for black names.\n",
    "\n",
    "$H_{A}$: Probability of callback for white names != Probability of callback for black names.\n"
   ]
  },
  {
   "cell_type": "code",
   "execution_count": 31,
   "metadata": {},
   "outputs": [],
   "source": [
    "black = data[data.race=='b']\n",
    "white = data[data.race=='w']\n",
    "all_calls = data['call']"
   ]
  },
  {
   "cell_type": "markdown",
   "metadata": {},
   "source": [
    "## Frequentist Approach"
   ]
  },
  {
   "cell_type": "code",
   "execution_count": 32,
   "metadata": {},
   "outputs": [
    {
     "name": "stdout",
     "output_type": "stream",
     "text": [
      "Margin of error for black-sounding names = 0.0098\n",
      "95-Percent CI for black-sounding names: [0.055, 0.074]\n",
      "\n",
      "Margin of error for white-sounding names = 0.0117\n",
      "95-Percent CI for white-sounding names: [0.085, 0.108]\n",
      "\n",
      "p-value = 3.98e-05\n"
     ]
    }
   ],
   "source": [
    "#Calculate proportion of resumes that resulted in a callback (success)\n",
    "b_total = len(black)\n",
    "b_success = black.call.sum()\n",
    "b_prop = b_success/b_total\n",
    "\n",
    "w_total = len(white)\n",
    "w_success = white.call.sum()\n",
    "w_prop = w_success/w_total\n",
    "\n",
    "total_n = w_total + b_total\n",
    "total_suc = w_success + b_success\n",
    "p_pool = total_suc/total_n\n",
    "\n",
    "#calculate margin of error and 95-percent confidence intervals\n",
    "z_star = 1.96\n",
    "\n",
    "SE_black = np.sqrt((b_prop*(1-b_prop))/b_total)\n",
    "ci_min_b, ci_max_b = (b_prop - (z_star*SE_black)).round(3), (b_prop + (z_star*SE_black)).round(3)\n",
    "\n",
    "print('Margin of error for black-sounding names =', (z_star*SE_black).round(4))\n",
    "print('95-Percent CI for black-sounding names: [%g, %g]' %(ci_min_b, ci_max_b))\n",
    "\n",
    "SE_white = np.sqrt((w_prop*(1-w_prop))/w_total)\n",
    "ci_min_w, ci_max_w = (w_prop - (z_star*SE_white)).round(3), (w_prop + (z_star*SE_white)).round(3)\n",
    "\n",
    "print()\n",
    "print('Margin of error for white-sounding names =', (z_star*SE_white).round(4))\n",
    "print('95-Percent CI for white-sounding names: [%g, %g]' %(ci_min_w, ci_max_w))\n",
    "\n",
    "\n",
    "#Calculate parameters for z-test\n",
    "SE = np.sqrt((p_pool*(1-p_pool))/b_total + (p_pool*(1-p_pool))/w_total)\n",
    "prop_diff = b_prop - w_prop\n",
    "Z = prop_diff/SE\n",
    "\n",
    "#calculate p-value\n",
    "p_value = (stats.norm.cdf(Z, loc=0, scale=1)*2).round(7)\n",
    "\n",
    "print()\n",
    "print('p-value =',p_value)\n",
    "\n"
   ]
  },
  {
   "cell_type": "markdown",
   "metadata": {},
   "source": [
    "## Bootstrap Method"
   ]
  },
  {
   "cell_type": "markdown",
   "metadata": {},
   "source": [
    "### Confidence Intervals"
   ]
  },
  {
   "cell_type": "code",
   "execution_count": 36,
   "metadata": {},
   "outputs": [
    {
     "name": "stdout",
     "output_type": "stream",
     "text": [
      "95% Confidence Interval for callbacks with black-sounding name: [0.0550308  0.07474333]\n",
      "95% Confidence Interval for callbacks with white-sounding name: [0.08459959 0.10841889]\n"
     ]
    }
   ],
   "source": [
    "def bs_rep_1d(data, func):\n",
    "    \"\"\"\n",
    "    Takes an array of data and a specified function\n",
    "    Returns the results of a specified function run on a bootstrap sample of those data\n",
    "    \"\"\"\n",
    "    bs_sample = np.random.choice(data, len(data))\n",
    "    return func(bs_sample)\n",
    "\n",
    "def get_prop_success(data):\n",
    "    \"\"\"\n",
    "    Takes a boolean array\n",
    "    Calculates and returns the proportion of True values\n",
    "    \"\"\"\n",
    "    return sum(data)/len(data)\n",
    "\n",
    "def get_bs_reps(data, func, size):\n",
    "    \"\"\"\n",
    "    Takes an array of data, a specified function, and a number or replicates to take\n",
    "    Returns an array of bootstrap replicates based on the specified function and size\n",
    "    \"\"\"\n",
    "    bs_reps = np.empty(size)\n",
    "    for i in range(size):\n",
    "        bs_reps[i] = bs_rep_1d(data, func)\n",
    "    return bs_reps\n",
    "\n",
    "#generate arrays of callbacks for black and white names\n",
    "b_call = black['call']\n",
    "w_call = white['call']\n",
    "\n",
    "#generate bootstrap reps of length 10,000\n",
    "black_reps = get_bs_reps(b_call, get_prop_success, 10000)\n",
    "white_reps = get_bs_reps(w_call, get_prop_success, 10000)\n",
    "\n",
    "#calculate 95% confidence intervals\n",
    "ci_black = np.percentile(black_reps, [2.5, 97.5])\n",
    "ci_white = np.percentile(white_reps, [2.5, 97.5])\n",
    "\n",
    "print('95% Confidence Interval for callbacks with black-sounding name:',ci_black)\n",
    "print('95% Confidence Interval for callbacks with white-sounding name:',ci_white)"
   ]
  },
  {
   "cell_type": "markdown",
   "metadata": {},
   "source": [
    "### Hypothesis Test"
   ]
  },
  {
   "cell_type": "code",
   "execution_count": 22,
   "metadata": {},
   "outputs": [
    {
     "name": "stdout",
     "output_type": "stream",
     "text": [
      "p-value = 0.0\n"
     ]
    }
   ],
   "source": [
    "def permut_sample(data, length):\n",
    "    \"\"\"\n",
    "    Takes an array and a specified length.\n",
    "    Returns two arrays of data permuted from the original array.\n",
    "    Both returned arrasy are of the length specified.\n",
    "    \"\"\"\n",
    "    calls_perm = np.random.permutation(data)\n",
    "    perm_sample_black = calls_perm[:length]\n",
    "    perm_sample_white = calls_perm[length:]\n",
    "    return perm_sample_black, perm_sample_white\n",
    "    \n",
    "def get_prop_diff(d1, d2):\n",
    "    \"\"\"\n",
    "    Takes two boolean arrays.\n",
    "    Returns the difference of proportions of True values between the arrays\n",
    "    \"\"\"\n",
    "    d1_prop = sum(d1)/len(d1)\n",
    "    d2_prop = sum(d2)/len(d2)\n",
    "    return d1_prop-d2_prop\n",
    "\n",
    "def get_permut_reps(data, length, func size=1):\n",
    "    \"\"\"\n",
    "    Takes an array of boolean values, a specified length, a function and a size.\n",
    "    Generates an bs replicate array with 'size' number of values.\n",
    "    Length refers to the number of values that should go into permutation arrays\n",
    "    Function refers to the function that should be applied to permutation arrays\n",
    "    \"\"\"\n",
    "    perm_reps = np.empty(size)\n",
    "    \n",
    "    for i in range(size):\n",
    "        perm_sample_black, perm_sample_white = permut_sample(data, length)\n",
    "        perm_reps[i]=func (perm_sample_black, perm_sample_white)\n",
    "        \n",
    "    return perm_reps\n",
    "\n",
    "#generate 10,000 bs replicates of difference between proportions using permutation of all callbacks\n",
    "permutation_replicates = get_permut_reps(all_calls, len(black), get_prop_diff, 10000)\n",
    "\n",
    "#calculate the p-vale \n",
    "p_value = sum(permutation_replicates <= prop_diff)/len(permutation_replicates)\n",
    "\n",
    "print('p-value =',p_value)\n"
   ]
  },
  {
   "cell_type": "markdown",
   "metadata": {},
   "source": [
    "## Significance"
   ]
  },
  {
   "cell_type": "markdown",
   "metadata": {},
   "source": [
    "Based on the results of both the Frequentist and Bootstrap approaches, evidence shows that there is a statistically significant difference in the number of callbacks for individuals with black- and white-sounding names. Since this is an experiment with race randomly assigned to resumes, we can conclude that there is a causal relationship between race and callback. It shows that resumes with black-sounding names are less likely to receive a callback than resumes with white-sounding names."
   ]
  },
  {
   "cell_type": "markdown",
   "metadata": {
    "collapsed": true
   },
   "source": [
    "## Is Race the Most Important Factor in Callback Success?"
   ]
  },
  {
   "cell_type": "markdown",
   "metadata": {},
   "source": [
    "Not necessarily. Our work above does demonstrates that resumes with black-sounding names are statistically less likely to receive a callback. But, there are a number of other variables in this dataset that could also affect whether or not a potential employer decides to make a callback. On the whole, only 8% of resumes actually received callbacks.\n",
    "\n",
    "In order to determine the variable that has the most influence on callback success, you could run series of regressions for each individual variable. The variable with the highest R-squared would be the one that has the most influence on callback success."
   ]
  },
  {
   "cell_type": "code",
   "execution_count": null,
   "metadata": {
    "collapsed": true
   },
   "outputs": [],
   "source": []
  }
 ],
 "metadata": {
  "kernelspec": {
   "display_name": "Python 3",
   "language": "python",
   "name": "python3"
  },
  "language_info": {
   "codemirror_mode": {
    "name": "ipython",
    "version": 3
   },
   "file_extension": ".py",
   "mimetype": "text/x-python",
   "name": "python",
   "nbconvert_exporter": "python",
   "pygments_lexer": "ipython3",
   "version": "3.6.3"
  }
 },
 "nbformat": 4,
 "nbformat_minor": 1
}

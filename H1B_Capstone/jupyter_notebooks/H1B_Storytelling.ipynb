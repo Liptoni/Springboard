{
 "cells": [
  {
   "cell_type": "code",
   "execution_count": 1,
   "metadata": {},
   "outputs": [
    {
     "name": "stderr",
     "output_type": "stream",
     "text": [
      "C:\\Users\\Ian\\AppData\\Roaming\\Python\\Python36\\site-packages\\numpy\\lib\\arraysetops.py:466: FutureWarning: elementwise comparison failed; returning scalar instead, but in the future will perform elementwise comparison\n",
      "  mask |= (ar1 == a)\n"
     ]
    },
    {
     "name": "stdout",
     "output_type": "stream",
     "text": [
      "<class 'pandas.core.frame.DataFrame'>\n",
      "Int64Index: 2912628 entries, 1 to 3002393\n",
      "Data columns (total 14 columns):\n",
      "CASE_STATUS           2912628 non-null object\n",
      "EMPLOYER_NAME         2912610 non-null object\n",
      "SOC_NAME              2895555 non-null object\n",
      "JOB_TITLE             2912618 non-null object\n",
      "FULL_TIME_POSITION    2912627 non-null object\n",
      "PREVAILING_WAGE       2912575 non-null float64\n",
      "YEAR                  2912628 non-null int64\n",
      "WORKSITE              2912628 non-null object\n",
      "lon                   2809785 non-null float64\n",
      "lat                   2809785 non-null float64\n",
      "CERTIFIED             2912628 non-null object\n",
      "CITY                  2912487 non-null object\n",
      "STATE                 2909177 non-null object\n",
      "LOG_WAGE              2912575 non-null float64\n",
      "dtypes: float64(4), int64(1), object(9)\n",
      "memory usage: 333.3+ MB\n",
      "None\n"
     ]
    }
   ],
   "source": [
    "from matplotlib import pyplot as plt\n",
    "import pandas as pd\n",
    "import seaborn as sns\n",
    "import numpy as np\n",
    "\n",
    "\"\"\"\n",
    "The data can be found here: https://www.kaggle.com/nsharan/h-1b-visa/data\n",
    "These analyses have been performed on a clean version of these data. \n",
    "A full accounting of how the data were cleaned can be found here: \n",
    "https://github.com/Liptoni/Springboard/blob/master/H1B_Capstone/H1B_Data_Wrangling.docx\n",
    "\"\"\"\n",
    "hb_data = pd.read_csv('h1b_clean.csv', index_col='CASE_NUMBER')\n",
    "\n",
    "\n",
    "print(hb_data.info(null_counts=True))"
   ]
  },
  {
   "cell_type": "markdown",
   "metadata": {},
   "source": [
    "### How many applications were certified or denied? Were there a large number of applications that were certified and then subsequently withdrawn?"
   ]
  },
  {
   "cell_type": "code",
   "execution_count": 13,
   "metadata": {},
   "outputs": [
    {
     "name": "stdout",
     "output_type": "stream",
     "text": [
      "CERTIFIED  CASE_STATUS        \n",
      "certified  CERTIFIED              2615623\n",
      "           CERTIFIED-WITHDRAWN     202659\n",
      "denied     DENIED                   94346\n",
      "Name: CASE_STATUS, dtype: int64\n"
     ]
    }
   ],
   "source": [
    "print(hb_data.groupby(['CERTIFIED'])['CASE_STATUS'].value_counts())"
   ]
  },
  {
   "cell_type": "code",
   "execution_count": 90,
   "metadata": {},
   "outputs": [
    {
     "name": "stdout",
     "output_type": "stream",
     "text": [
      "total certified: 2818282\n",
      "percent certified: 0.9676079471872138\n",
      "percent certified and withdrawn: 7.74802026132971\n"
     ]
    }
   ],
   "source": [
    "print(\"total certified:\", 2615623+202659)\n",
    "print(\"percent certified:\", (2615623+202659)/2912628)\n",
    "print(\"percent certified and withdrawn:\",202659/2615623*100)"
   ]
  },
  {
   "cell_type": "markdown",
   "metadata": {},
   "source": [
    "Based on these finding is looks like most (2,818,282 of 2,912,628 (96.8%)) applications were ultimately certified. While there were a large number of applications that were certified and subsequently denied, this number (202,659) made up just under 8% of the total certified applications."
   ]
  },
  {
   "cell_type": "markdown",
   "metadata": {},
   "source": [
    "### Were there any trends in the proportions of certified applications by year?"
   ]
  },
  {
   "cell_type": "code",
   "execution_count": 19,
   "metadata": {},
   "outputs": [
    {
     "name": "stdout",
     "output_type": "stream",
     "text": [
      "YEAR  CERTIFIED\n",
      "2011  certified    0.916452\n",
      "      denied       0.083548\n",
      "2012  certified    0.947896\n",
      "      denied       0.052104\n",
      "2013  certified    0.971833\n",
      "      denied       0.028167\n",
      "2014  certified    0.976368\n",
      "      denied       0.023632\n",
      "2015  certified    0.981773\n",
      "      denied       0.018227\n",
      "2016  certified    0.985341\n",
      "      denied       0.014659\n",
      "Name: CERTIFIED, dtype: float64\n"
     ]
    }
   ],
   "source": [
    "status_by_year = hb_data.groupby(['YEAR'])['CERTIFIED'].value_counts(normalize = True)\n",
    "\n",
    "print(status_by_year)"
   ]
  },
  {
   "cell_type": "code",
   "execution_count": 48,
   "metadata": {},
   "outputs": [
    {
     "data": {
      "image/png": "[encoded data removed]",
      "text/plain": [
       "<matplotlib.figure.Figure at 0x1a9a30faeb8>"
      ]
     },
     "metadata": {},
     "output_type": "display_data"
    }
   ],
   "source": [
    "status_by_year.plot(kind='barh', figsize=(8,6))\n",
    "plt.xlabel('Percent')\n",
    "plt.title('Percent Certified and Denied by Year')\n",
    "plt.show()"
   ]
  },
  {
   "cell_type": "markdown",
   "metadata": {},
   "source": [
    "There actually was an increasing trend in the number of applicaitons that were certified every year from 2011 to 2016. In 2011 91.6% of applications were certified whereas in 2016 over 98.5% of applications were certified."
   ]
  },
  {
   "cell_type": "markdown",
   "metadata": {},
   "source": [
    "### What is the distribution of wages associated with applicaitons"
   ]
  },
  {
   "cell_type": "markdown",
   "metadata": {},
   "source": [
    "First I want to remove applications that had no wage reported. It is unrealistic that someone would take a job paying $0 so I can only assume that these applications are either incomplete or erroneous. Either way they are not appropriate to include in this early visualization."
   ]
  },
  {
   "cell_type": "code",
   "execution_count": 46,
   "metadata": {},
   "outputs": [
    {
     "data": {
      "text/plain": [
       "count    2.912549e+06\n",
       "mean     1.428927e+05\n",
       "std      5.282352e+06\n",
       "min      1.516000e+01\n",
       "25%      5.441300e+04\n",
       "50%      6.500000e+04\n",
       "75%      8.143200e+04\n",
       "max      6.997607e+09\n",
       "Name: PREVAILING_WAGE, dtype: float64"
      ]
     },
     "execution_count": 46,
     "metadata": {},
     "output_type": "execute_result"
    }
   ],
   "source": [
    "clean_wage = hb_data[hb_data.PREVAILING_WAGE !=0]\n",
    "\n",
    "clean_wage.PREVAILING_WAGE.describe()"
   ]
  },
  {
   "cell_type": "code",
   "execution_count": 84,
   "metadata": {},
   "outputs": [
    {
     "data": {
      "image/png": "[encoded data removed]",
      "text/plain": [
       "<matplotlib.figure.Figure at 0x1aa06e75d30>"
      ]
     },
     "metadata": {},
     "output_type": "display_data"
    }
   ],
   "source": [
    "clean_wage.PREVAILING_WAGE.plot(kind='hist', logy=True, bins=25)\n",
    "plt.title('Histogram of Wages')\n",
    "plt.xlabel('Prevailing Wage')\n",
    "plt.show()"
   ]
  },
  {
   "cell_type": "markdown",
   "metadata": {},
   "source": [
    "Based on this preliminary histogram, it would appear that there are a handfull of extremely high wages that are skewing the distribution. This leads to the question..."
   ]
  },
  {
   "cell_type": "markdown",
   "metadata": {},
   "source": [
    "#### What is the distribution of wages on the left side of the distribution?"
   ]
  },
  {
   "cell_type": "code",
   "execution_count": 86,
   "metadata": {},
   "outputs": [
    {
     "data": {
      "image/png": "[encoded data removed]",
      "text/plain": [
       "<matplotlib.figure.Figure at 0x1a9dd40d668>"
      ]
     },
     "metadata": {},
     "output_type": "display_data"
    }
   ],
   "source": [
    "clean_wage.LOG_WAGE.plot(kind='hist', logy=True, bins=25)\n",
    "plt.title('Histogram of Log Transformed Wages')\n",
    "plt.xlabel('Prevailing Wage (log)')\n",
    "plt.show()"
   ]
  },
  {
   "cell_type": "markdown",
   "metadata": {},
   "source": [
    "When looking at a distribution of log-transformed wages, it seems as if there is potentially a bi-modal distribution. The first is centered near \\$10,000 and the second near \\$10,000,000. This would indicate that there might be two distinct group of people who are applying for jobs via an H1B visa. "
   ]
  },
  {
   "cell_type": "markdown",
   "metadata": {},
   "source": [
    "### Are there any trends in the number of applications for part-time vs. full-time positions?"
   ]
  },
  {
   "cell_type": "code",
   "execution_count": 66,
   "metadata": {},
   "outputs": [
    {
     "data": {
      "text/plain": [
       "YEAR  FULL_TIME_POSITION\n",
       "2011  N                      16089\n",
       "      Y                     332573\n",
       "2012  N                      15138\n",
       "      Y                     389744\n",
       "2013  N                      13145\n",
       "      Y                     417364\n",
       "2014  N                      13645\n",
       "      Y                     489745\n",
       "2015  N                      14522\n",
       "      Y                     584750\n",
       "2016  N                     339006\n",
       "      Y                     286906\n",
       "Name: FULL_TIME_POSITION, dtype: int64"
      ]
     },
     "execution_count": 66,
     "metadata": {},
     "output_type": "execute_result"
    }
   ],
   "source": [
    "ft_by_year = hb_data.groupby(['YEAR'])['FULL_TIME_POSITION'].value_counts(sort=False)\n",
    "ft_by_year"
   ]
  },
  {
   "cell_type": "code",
   "execution_count": 93,
   "metadata": {},
   "outputs": [
    {
     "data": {
      "image/png": "[encoded data removed]",
      "text/plain": [
       "<matplotlib.figure.Figure at 0x1a993d6f780>"
      ]
     },
     "metadata": {},
     "output_type": "display_data"
    }
   ],
   "source": [
    "my_colors = ['b', 'g','b', 'g','b', 'g','b', 'g','b', 'g','b', 'g']\n",
    "plt.ylabel('Count')\n",
    "plt.title('Part-time and Full-time Position Applications')\n",
    "ft_by_year.plot(kind='bar', color=my_colors)\n",
    "plt.show()"
   ]
  },
  {
   "cell_type": "markdown",
   "metadata": {},
   "source": [
    "This is very interesting. For the years 2011-2015, the vast majority of applications were for full-time employment. Then, in 2016, thre is a drastic change. There were actually more part-time applications than full-time applications. This leads to a larger question which is: Was there some external force that influenced whether visa seekers were looking for part-time vs. full-time employment?"
   ]
  },
  {
   "cell_type": "code",
   "execution_count": null,
   "metadata": {
    "collapsed": true
   },
   "outputs": [],
   "source": []
  }
 ],
 "metadata": {
  "kernelspec": {
   "display_name": "Python 3",
   "language": "python",
   "name": "python3"
  },
  "language_info": {
   "codemirror_mode": {
    "name": "ipython",
    "version": 3
   },
   "file_extension": ".py",
   "mimetype": "text/x-python",
   "name": "python",
   "nbconvert_exporter": "python",
   "pygments_lexer": "ipython3",
   "version": "3.6.3"
  }
 },
 "nbformat": 4,
 "nbformat_minor": 2
}

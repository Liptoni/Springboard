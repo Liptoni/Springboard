{
 "cells": [
  {
   "cell_type": "code",
   "execution_count": 1,
   "metadata": {
    "collapsed": true
   },
   "outputs": [],
   "source": [
    "from matplotlib import pyplot as plt\n",
    "import pandas as pd\n",
    "import numpy as np\n",
    "from scipy import stats\n",
    "pd.options.mode.chained_assignment = None"
   ]
  },
  {
   "cell_type": "code",
   "execution_count": 2,
   "metadata": {
    "collapsed": true
   },
   "outputs": [],
   "source": [
    "def ecdf(data):\n",
    "    \"\"\"\n",
    "    Takes a dataset and creates x and y for ECDF plot\n",
    "    \"\"\"\n",
    "    n=len(data)\n",
    "    x=np.sort(data)\n",
    "    y=np.arange(1, n+1)/n\n",
    "    return x,y\n"
   ]
  },
  {
   "cell_type": "code",
   "execution_count": 3,
   "metadata": {},
   "outputs": [
    {
     "name": "stderr",
     "output_type": "stream",
     "text": [
      "C:\\Users\\Ian\\AppData\\Roaming\\Python\\Python36\\site-packages\\numpy\\lib\\arraysetops.py:466: FutureWarning: elementwise comparison failed; returning scalar instead, but in the future will perform elementwise comparison\n",
      "  mask |= (ar1 == a)\n"
     ]
    }
   ],
   "source": [
    "#import cleaned H1B dataset\n",
    "#full dataset can be found: https://www.kaggle.com/nsharan/h-1b-visa/data\n",
    "#A description of cleanup can be found: https://github.com/Liptoni/Springboard/blob/master/H1B_Capstone/H1B_Data_Wrangling.docx\n",
    "hb_data = pd.read_csv('h1b_clean.csv', index_col='CASE_NUMBER')\n",
    "\n",
    "#need to create these in order to join with census data\n",
    "hb_data['lat_round'] = hb_data['lat'].apply(lambda x: round(x, 4))\n",
    "hb_data['lon_round'] = hb_data['lon'].apply(lambda x: round(x, 4))"
   ]
  },
  {
   "cell_type": "code",
   "execution_count": 4,
   "metadata": {
    "collapsed": true
   },
   "outputs": [],
   "source": [
    "#import census data\n",
    "census_cols = ['ID1', 'ID', 'lat', 'lon', 'block_fips', 'block_pop_2015', 'county_fips', 'county_name', 'state_code', 'state_fips', 'state_name', 'county_pop', 'GEONAME']\n",
    "census_data = pd.read_csv('county_pop.csv', header=0, names=census_cols)\n",
    "census_data['lat_round'] = census_data['lat'].apply(lambda x: round(x, 4))\n",
    "census_data['lon_round'] = census_data['lon'].apply(lambda x: round(x, 4))\n",
    "census_data = census_data[['ID', 'lat_round', 'lon_round', 'block_fips', 'block_pop_2015', 'county_fips', 'county_name', 'county_pop', 'state_code', 'state_fips', 'state_name']]\n"
   ]
  },
  {
   "cell_type": "markdown",
   "metadata": {},
   "source": [
    "## Wages for Certified and Denied Applications\n",
    "\n",
    "Set up a hypothesis test to determine if the average wage for applications that were denied is the same as applications that were certified:\n",
    "\n",
    "$H_0$: certified = denied\n",
    "\n",
    "$H_A$: certified != denied"
   ]
  },
  {
   "cell_type": "code",
   "execution_count": 13,
   "metadata": {
    "collapsed": true
   },
   "outputs": [],
   "source": [
    "#filter data to split between certified and denied applications. Remove records where wage is 0\n",
    "cert_filter = (hb_data.CERTIFIED == 'certified') & (hb_data.PREVAILING_WAGE!= 0) & (hb_data.PREVAILING_WAGE < 1e+09)\n",
    "den_filter = (hb_data.CERTIFIED == 'denied') & (hb_data.PREVAILING_WAGE!= 0) & (hb_data.PREVAILING_WAGE < 1e+09)"
   ]
  },
  {
   "cell_type": "markdown",
   "metadata": {},
   "source": [
    "While I will be doing the analysis using the Prevailing Wage, it is easier to visualize the relationship by plotting the ECDF of the Log of the Prevailing Wage. This next step uses LOG_WAGE but then I switch back to using PREVAILING_WAGE for the actual t-test."
   ]
  },
  {
   "cell_type": "code",
   "execution_count": 14,
   "metadata": {
    "collapsed": true
   },
   "outputs": [],
   "source": [
    "cert_wage = hb_data[cert_filter]['LOG_WAGE'].dropna()\n",
    "den_wage = hb_data[den_filter]['LOG_WAGE'].dropna()"
   ]
  },
  {
   "cell_type": "code",
   "execution_count": 15,
   "metadata": {},
   "outputs": [
    {
     "data": {
      "image/png": "[encoded data removed]",
      "text/plain": [
       "<matplotlib.figure.Figure at 0x19a80063cf8>"
      ]
     },
     "metadata": {},
     "output_type": "display_data"
    }
   ],
   "source": [
    "#create ECDF to visually compare these two datsets\n",
    "cert_x, cert_y = ecdf(cert_wage)\n",
    "den_x, den_y = ecdf(den_wage)\n",
    "\n",
    "plt.plot(cert_x, cert_y, marker='.', linestyle='none')\n",
    "plt.plot(den_x, den_y, marker='.', linestyle='none')\n",
    "\n",
    "plt.xlabel('Log Prevailing Wage')\n",
    "plt.ylabel(\"ECDF\")\n",
    "plt.title(\"Certified vs. Denied Wages ECDF\")\n",
    "plt.legend(['Certified', 'Denied'])\n",
    "plt.show()"
   ]
  },
  {
   "cell_type": "code",
   "execution_count": 21,
   "metadata": {
    "collapsed": true
   },
   "outputs": [],
   "source": [
    "#use prevailing wage for statistical analysis\n",
    "cert_wage = hb_data[cert_filter]['PREVAILING_WAGE'].dropna()\n",
    "den_wage = hb_data[den_filter]['PREVAILING_WAGE'].dropna()"
   ]
  },
  {
   "cell_type": "code",
   "execution_count": 22,
   "metadata": {},
   "outputs": [
    {
     "name": "stdout",
     "output_type": "stream",
     "text": [
      "Certified Mean = 72553.44 \t n= 2818282\n",
      "Denied Mean = 2160933.65 \t n= 94265\n"
     ]
    }
   ],
   "source": [
    "print('Certified Mean =', round(cert_wage.mean(), 2), '\\t n=', len(cert_wage))\n",
    "print('Denied Mean =', round(den_wage.mean(),2), '\\t n=', len(den_wage))"
   ]
  },
  {
   "cell_type": "code",
   "execution_count": 51,
   "metadata": {},
   "outputs": [
    {
     "name": "stdout",
     "output_type": "stream",
     "text": [
      "p-value: 7.667393062621793e-116\n"
     ]
    }
   ],
   "source": [
    "#perform t-test to compare means of wages for certified and denied samples \n",
    "\n",
    "t, p = stats.ttest_ind(cert_wage, den_wage, equal_var=False)\n",
    "print('p-value:',p)"
   ]
  },
  {
   "cell_type": "markdown",
   "metadata": {},
   "source": [
    "Based on this p-value we would reject the null hypothesis that the average wage for certified and denied applications are the same."
   ]
  },
  {
   "cell_type": "markdown",
   "metadata": {},
   "source": [
    "## Wages for Full-time and Part-time Applications\n",
    "\n",
    "Set up a hypothesis test to determine if the average wage for applications for full-time positions is the same as the average wage of applications for part-time positions:\n",
    "\n",
    "$H_0$: full-time = part-time\n",
    "\n",
    "$H_A$: full-time != part-time"
   ]
  },
  {
   "cell_type": "code",
   "execution_count": 41,
   "metadata": {
    "collapsed": true
   },
   "outputs": [],
   "source": [
    "#filter to split data into full-time and part-time position applications. Remove records with a 0 wage\n",
    "ft_filter = (hb_data.PREVAILING_WAGE != 0) & (hb_data.FULL_TIME_POSITION == 'Y')\n",
    "pt_filter = (hb_data.PREVAILING_WAGE != 0) & (hb_data.FULL_TIME_POSITION == 'N')"
   ]
  },
  {
   "cell_type": "code",
   "execution_count": 42,
   "metadata": {},
   "outputs": [
    {
     "data": {
      "image/png": "[encoded data removed]",
      "text/plain": [
       "<matplotlib.figure.Figure at 0x2398000e320>"
      ]
     },
     "metadata": {},
     "output_type": "display_data"
    }
   ],
   "source": [
    "ft_wage = hb_data[ft_filter]['LOG_WAGE'].dropna()\n",
    "pt_wage = hb_data[pt_filter]['LOG_WAGE'].dropna()\n",
    "\n",
    "#create ECDF\n",
    "ft_x, ft_y = ecdf(ft_wage)\n",
    "pt_x, pt_y = ecdf(pt_wage)\n",
    "\n",
    "plt.plot(ft_x, ft_y, marker='.', linestyle='none')\n",
    "plt.plot(pt_x, pt_y, marker='.', linestyle='none')\n",
    "\n",
    "plt.xlabel('Log Prevailing Wage')\n",
    "plt.ylabel(\"ECDF\")\n",
    "plt.title(\"Full-time vs. Part-time ECDF\")\n",
    "plt.legend(['Full-time', 'Part-time'])\n",
    "plt.show()"
   ]
  },
  {
   "cell_type": "markdown",
   "metadata": {},
   "source": [
    "As with the previous section, it is easier to visualize the relationship by using the log of the prevailing wage. The actual analysis is done using the native prevailing wage variable. "
   ]
  },
  {
   "cell_type": "code",
   "execution_count": 44,
   "metadata": {
    "collapsed": true
   },
   "outputs": [],
   "source": [
    "ft_wage = hb_data[ft_filter]['PREVAILING_WAGE'].dropna()\n",
    "pt_wage = hb_data[pt_filter]['PREVAILING_WAGE'].dropna()"
   ]
  },
  {
   "cell_type": "code",
   "execution_count": 53,
   "metadata": {},
   "outputs": [
    {
     "name": "stdout",
     "output_type": "stream",
     "text": [
      "Full-time Mean = 155125.41 \t n= 2501021\n",
      "Part-time Mean = 68549.35 \t n= 411528\n"
     ]
    }
   ],
   "source": [
    "print('Full-time Mean =', round(ft_wage.mean(),2), '\\t n=', len(ft_wage))\n",
    "print('Part-time Mean =', round(pt_wage.mean(),2), '\\t n=', len(pt_wage))"
   ]
  },
  {
   "cell_type": "code",
   "execution_count": 46,
   "metadata": {},
   "outputs": [
    {
     "name": "stdout",
     "output_type": "stream",
     "text": [
      "p-value: 4.664149817679915e-102\n"
     ]
    }
   ],
   "source": [
    "t,p=stats.ttest_ind(ft_wage, pt_wage, equal_var=False)\n",
    "print('p-value:', p)"
   ]
  },
  {
   "cell_type": "markdown",
   "metadata": {},
   "source": [
    "With such a small p-value, we would reject the null hypothesis that wages for full-time and part-time positions are the same."
   ]
  },
  {
   "cell_type": "markdown",
   "metadata": {},
   "source": [
    "## County Population of Certified and Denied Applications\n",
    "\n",
    "Here I set up a hypothesis test to determine if there is a difference in the population of counties for applications that were certified or denied. The county corresponds to the block of the potential employer's location.\n",
    "\n",
    "$H_0$: Certified = Denied\n",
    "\n",
    "$H_A$: Certified != Denied"
   ]
  },
  {
   "cell_type": "code",
   "execution_count": 26,
   "metadata": {},
   "outputs": [
    {
     "name": "stdout",
     "output_type": "stream",
     "text": [
      "  FULL_TIME_POSITION  PREVAILING_WAGE  LOG_WAGE  CERTIFIED  county_pop\n",
      "0                  N          36067.0  4.557110  certified    364709.0\n",
      "1                  Y         242674.0  5.385023  certified    939585.0\n",
      "2                  Y         193066.0  5.285706  certified    677983.0\n",
      "3                  Y         220314.0  5.343042  certified    693060.0\n",
      "4                  Y         225000.0  5.352183  certified   2712945.0\n"
     ]
    }
   ],
   "source": [
    "#merge census data with h1b data\n",
    "hb_census = hb_data.merge(census_data, how='left', left_on=['lat_round', 'lon_round'], right_on=['lat_round', 'lon_round'])\n",
    "hb_census = hb_census[['FULL_TIME_POSITION', 'PREVAILING_WAGE', 'LOG_WAGE', 'CERTIFIED', 'county_pop']]\n",
    "\n",
    "print(hb_census.head())"
   ]
  },
  {
   "cell_type": "code",
   "execution_count": 14,
   "metadata": {},
   "outputs": [
    {
     "data": {
      "image/png": "[encoded data removed]",
      "text/plain": [
       "<matplotlib.figure.Figure at 0x239803b32b0>"
      ]
     },
     "metadata": {},
     "output_type": "display_data"
    }
   ],
   "source": [
    "#separate certified and denied into two datasets with corresponding county populations\n",
    "cert_filter = (hb_census.CERTIFIED=='certified')&(hb_census.county_pop.notnull())\n",
    "den_filter = (hb_census.CERTIFIED=='denied')&(hb_census.county_pop.notnull())\n",
    "cert_pop = hb_census[cert_filter]['county_pop']\n",
    "den_pop = hb_census[den_filter]['county_pop']\n",
    "\n",
    "#create ECDF plots\n",
    "cert_x, cert_y = ecdf(cert_pop)\n",
    "den_x, den_y = ecdf(den_pop)\n",
    "\n",
    "plt.plot(cert_x, cert_y, marker='.', linestyle='none')\n",
    "plt.plot(den_x, den_y, marker='.', linestyle='none')\n",
    "\n",
    "plt.xlabel('2015 Census Block Population')\n",
    "plt.ylabel(\"ECDF\")\n",
    "plt.title(\"Certified vs. Denied ECDF\")\n",
    "plt.legend(['Certified', 'denied'])\n",
    "plt.show()"
   ]
  },
  {
   "cell_type": "code",
   "execution_count": 54,
   "metadata": {},
   "outputs": [
    {
     "name": "stdout",
     "output_type": "stream",
     "text": [
      "Certified Mean = 1720650.0 \t n= 2721739\n",
      "Denied Mean = 1993234.0 \t n= 85107\n"
     ]
    }
   ],
   "source": [
    "#show mean populations for the two samples\n",
    "print('Certified Mean =', round(cert_pop.mean(),0), '\\t n=', len(cert_pop))\n",
    "print('Denied Mean =', round(den_pop.mean(),0), '\\t n=', len(den_pop))"
   ]
  },
  {
   "cell_type": "code",
   "execution_count": 16,
   "metadata": {},
   "outputs": [
    {
     "name": "stdout",
     "output_type": "stream",
     "text": [
      "p-value: 3.424243166084512e-240\n"
     ]
    }
   ],
   "source": [
    "#run t-test comparing means of two samples\n",
    "t,p=stats.ttest_ind(cert_pop, den_pop, equal_var=False)\n",
    "print('p-value:', p)"
   ]
  },
  {
   "cell_type": "markdown",
   "metadata": {},
   "source": [
    "Based on the results of the t-test I would reject the null hypothesis that the county population for applications that were certified and denied are the same."
   ]
  },
  {
   "cell_type": "markdown",
   "metadata": {},
   "source": [
    "## County Population vs. Prevailing Wage\n",
    "\n",
    "Here I want to explore the data to determine if there is a correlation between county population and prevailing wage."
   ]
  },
  {
   "cell_type": "code",
   "execution_count": 28,
   "metadata": {
    "collapsed": true
   },
   "outputs": [],
   "source": [
    "def get_least_squares(x, y):\n",
    "    \"\"\"\n",
    "    Takes an x-data array and y-data array\n",
    "    Returns x and y data for least squares line\n",
    "    \"\"\"\n",
    "    slope, intercept = np.polyfit(x, y, 1)\n",
    "    ls_x = np.array([0,x.max()])\n",
    "    ls_y = slope*ls_x + intercept\n",
    "    return ls_x, ls_y"
   ]
  },
  {
   "cell_type": "code",
   "execution_count": 29,
   "metadata": {
    "collapsed": true
   },
   "outputs": [],
   "source": [
    "def pearson_r(x_data, y_data):\n",
    "    \"\"\"\n",
    "    Takes x and y data arrays\n",
    "    Returns the pearson r coefficient\n",
    "    \"\"\"\n",
    "    corr_matrix = np.corrcoef(x_data, y_data)\n",
    "    return corr_matrix[0,1]"
   ]
  },
  {
   "cell_type": "code",
   "execution_count": 35,
   "metadata": {},
   "outputs": [
    {
     "data": {
      "image/png": "[encoded data removed]",
      "text/plain": [
       "<matplotlib.figure.Figure at 0x19a80882d30>"
      ]
     },
     "metadata": {},
     "output_type": "display_data"
    },
    {
     "name": "stdout",
     "output_type": "stream",
     "text": [
      "4.822486900706966e-05\n"
     ]
    }
   ],
   "source": [
    "#get a clean dataset for making the correlation plot\n",
    "fltr = (hb_census.PREVAILING_WAGE.notnull()) & (hb_census.PREVAILING_WAGE != 0) & (hb_census.PREVAILING_WAGE < 1e+09) & (hb_census.county_pop.notnull())\n",
    "clean_hb_census = hb_census[fltr]\n",
    "\n",
    "#separate out the parameters\n",
    "county_pop = clean_hb_census['county_pop']\n",
    "wages = clean_hb_census['PREVAILING_WAGE']\n",
    "\n",
    "#get the least squares line and Pearson R\n",
    "pop_wage_x, pop_wage_y = get_least_squares(county_pop, wages)\n",
    "pop_wage_r = pearson_r(county_pop, wages)\n",
    "\n",
    "#make the plot\n",
    "plot_label = \"r= \" + str(round(pop_wage_r, 5))\n",
    "plt.xlabel('County Population')\n",
    "plt.ylabel('Prevailing Wage')\n",
    "plt.title('County Population vs. Wage')\n",
    "plt.plot(county_pop, wages, linestyle='none', marker = '.', alpha=0.2, color='b', label='Population vs. Wage')\n",
    "plt.plot(pop_wage_x, pop_wage_y, color='orange', label=plot_label)\n",
    "plt.legend()\n",
    "plt.show()\n",
    "\n",
    "print(pop_wage_r)"
   ]
  },
  {
   "cell_type": "markdown",
   "metadata": {},
   "source": [
    "A Pearson-r of 0.00005 indicates that there is essentially no relationship between county population and prevailing wage. "
   ]
  },
  {
   "cell_type": "code",
   "execution_count": null,
   "metadata": {
    "collapsed": true
   },
   "outputs": [],
   "source": []
  }
 ],
 "metadata": {
  "kernelspec": {
   "display_name": "Python 3",
   "language": "python",
   "name": "python3"
  },
  "language_info": {
   "codemirror_mode": {
    "name": "ipython",
    "version": 3
   },
   "file_extension": ".py",
   "mimetype": "text/x-python",
   "name": "python",
   "nbconvert_exporter": "python",
   "pygments_lexer": "ipython3",
   "version": "3.6.3"
  }
 },
 "nbformat": 4,
 "nbformat_minor": 2
}

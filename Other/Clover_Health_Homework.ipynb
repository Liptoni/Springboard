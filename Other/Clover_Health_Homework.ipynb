{
 "cells": [
  {
   "cell_type": "code",
   "execution_count": 1,
   "metadata": {
    "collapsed": true
   },
   "outputs": [],
   "source": [
    "import pandas as pd\n",
    "import numpy as np\n",
    "from collections import OrderedDict"
   ]
  },
  {
   "cell_type": "markdown",
   "metadata": {},
   "source": [
    "### Import and inspect data"
   ]
  },
  {
   "cell_type": "code",
   "execution_count": 2,
   "metadata": {},
   "outputs": [
    {
     "name": "stderr",
     "output_type": "stream",
     "text": [
      "C:\\Users\\Ian\\AppData\\Roaming\\Python\\Python36\\site-packages\\numpy\\lib\\arraysetops.py:466: FutureWarning: elementwise comparison failed; returning scalar instead, but in the future will perform elementwise comparison\n",
      "  mask |= (ar1 == a)\n"
     ]
    }
   ],
   "source": [
    "#import data\n",
    "base_data = pd.read_csv('meps_base_data.csv', index_col = 0)\n",
    "meds_data = pd.read_csv('meps_meds.csv', index_col = 0)"
   ]
  },
  {
   "cell_type": "code",
   "execution_count": 3,
   "metadata": {},
   "outputs": [
    {
     "name": "stdout",
     "output_type": "stream",
     "text": [
      "<class 'pandas.core.frame.DataFrame'>\n",
      "Int64Index: 61489 entries, 1 to 61489\n",
      "Data columns (total 17 columns):\n",
      "id                       61489 non-null int64\n",
      "panel                    61489 non-null int64\n",
      "pooledWeight             61489 non-null float64\n",
      "age                      61489 non-null int64\n",
      "sex                      61489 non-null object\n",
      "race                     61489 non-null object\n",
      "married                  61489 non-null object\n",
      "highBPDiagnosed          61489 non-null object\n",
      "diabetesDiagnosed        61489 non-null object\n",
      "chdDiagnosed             61489 non-null object\n",
      "miDiagnosed              61489 non-null object\n",
      "anginaDiagnosed          61489 non-null object\n",
      "strokeDiagnosed          61489 non-null object\n",
      "emphysemaDiagnosed       61489 non-null object\n",
      "asthmaDiagnosed          61489 non-null object\n",
      "otherHDDiagnosed         61489 non-null object\n",
      "heartFailureDiagnosed    61489 non-null object\n",
      "dtypes: float64(1), int64(3), object(13)\n",
      "memory usage: 8.4+ MB\n",
      "None\n"
     ]
    }
   ],
   "source": [
    "print(base_data.info())"
   ]
  },
  {
   "cell_type": "code",
   "execution_count": 4,
   "metadata": {},
   "outputs": [
    {
     "name": "stdout",
     "output_type": "stream",
     "text": [
      "         id  panel  pooledWeight  age     sex      race  \\\n",
      "1  10007101     15   3603.881236   28    Male     White   \n",
      "2  10007102     15   2544.550424   25  Female     White   \n",
      "3  10007103     15   4050.397468    4    Male     White   \n",
      "4  10007104     15   3064.059720    3  Female     White   \n",
      "5  10008101     15   3635.552466   51    Male  Multiple   \n",
      "\n",
      "                   married highBPDiagnosed diabetesDiagnosed  chdDiagnosed  \\\n",
      "1                  MARRIED             Yes                No            No   \n",
      "2                  MARRIED              No                No            No   \n",
      "3  UNDER 16 - INAPPLICABLE    Inapplicable      Inapplicable  Inapplicable   \n",
      "4  UNDER 16 - INAPPLICABLE    Inapplicable      Inapplicable  Inapplicable   \n",
      "5                  MARRIED              No                No            No   \n",
      "\n",
      "    miDiagnosed anginaDiagnosed strokeDiagnosed emphysemaDiagnosed  \\\n",
      "1            No              No              No                 No   \n",
      "2            No              No              No                 No   \n",
      "3  Inapplicable    Inapplicable    Inapplicable       Inapplicable   \n",
      "4  Inapplicable    Inapplicable    Inapplicable       Inapplicable   \n",
      "5            No              No              No                 No   \n",
      "\n",
      "  asthmaDiagnosed otherHDDiagnosed heartFailureDiagnosed  \n",
      "1              No               No                    No  \n",
      "2             Yes               No                    No  \n",
      "3              No     Inapplicable                    No  \n",
      "4              No     Inapplicable                    No  \n",
      "5              No               No                    No  \n"
     ]
    }
   ],
   "source": [
    "print(base_data.head())"
   ]
  },
  {
   "cell_type": "code",
   "execution_count": 5,
   "metadata": {},
   "outputs": [
    {
     "name": "stdout",
     "output_type": "stream",
     "text": [
      "<class 'pandas.core.frame.DataFrame'>\n",
      "Int64Index: 1148347 entries, 1 to 3000992\n",
      "Data columns (total 7 columns):\n",
      "id              1148347 non-null int64\n",
      "rxStartMonth    1148347 non-null int64\n",
      "rxStartYear     1148347 non-null int64\n",
      "rxName          1148347 non-null object\n",
      "rxNDC           1148347 non-null int64\n",
      "rxQuantity      1148347 non-null float64\n",
      "rxForm          1148347 non-null object\n",
      "dtypes: float64(1), int64(4), object(2)\n",
      "memory usage: 70.1+ MB\n",
      "None\n"
     ]
    }
   ],
   "source": [
    "print(meds_data.info())"
   ]
  },
  {
   "cell_type": "code",
   "execution_count": 6,
   "metadata": {},
   "outputs": [
    {
     "name": "stdout",
     "output_type": "stream",
     "text": [
      "         id  rxStartMonth  rxStartYear                          rxName  \\\n",
      "1  10007104             3         2011                     AMOXICILLIN   \n",
      "2  10007104             3         2011              OTIC EDGE SOLUTION   \n",
      "3  10008102             3         2011  NASAL DECONGESTANT 0.05% SPRAY   \n",
      "4  10008102             3         2011  NASAL DECONGESTANT 0.05% SPRAY   \n",
      "5  10008102             9         2011                    DIPHENHYDRAM   \n",
      "\n",
      "         rxNDC  rxQuantity rxForm  \n",
      "1    143988775        75.0   SUSR  \n",
      "2  68032032814        14.0    SOL  \n",
      "3  63981056903        15.0    SPR  \n",
      "4  63981056903        15.0    SPR  \n",
      "5    603333921        30.0    CAP  \n"
     ]
    }
   ],
   "source": [
    "print(meds_data.head())"
   ]
  },
  {
   "cell_type": "markdown",
   "metadata": {},
   "source": [
    "#### I want to do a quick check to make sure that there are no duplicate records for a patient in the base data"
   ]
  },
  {
   "cell_type": "code",
   "execution_count": 7,
   "metadata": {},
   "outputs": [
    {
     "name": "stdout",
     "output_type": "stream",
     "text": [
      "<class 'pandas.core.frame.DataFrame'>\n",
      "Int64Index: 0 entries\n",
      "Data columns (total 2 columns):\n",
      "id    0 non-null int64\n",
      "n     0 non-null int64\n",
      "dtypes: int64(2)\n",
      "memory usage: 0.0 bytes\n",
      "None\n"
     ]
    }
   ],
   "source": [
    "#check to make sure that there is only one record for each id in base_data\n",
    "id_count = base_data.groupby('id').size().reset_index()\n",
    "id_count.columns = ('id', 'n')\n",
    "\n",
    "print(id_count[id_count.n > 1].info())"
   ]
  },
  {
   "cell_type": "markdown",
   "metadata": {},
   "source": [
    "#### I now want to create a tidy dataframe that has a field for patient id, disease, and diagnosis. This will help with future analyses."
   ]
  },
  {
   "cell_type": "code",
   "execution_count": 8,
   "metadata": {},
   "outputs": [
    {
     "name": "stdout",
     "output_type": "stream",
     "text": [
      "<class 'pandas.core.frame.DataFrame'>\n",
      "RangeIndex: 614890 entries, 0 to 614889\n",
      "Data columns (total 3 columns):\n",
      "id           614890 non-null int64\n",
      "disease      614890 non-null object\n",
      "diagnosis    614890 non-null object\n",
      "dtypes: int64(1), object(2)\n",
      "memory usage: 14.1+ MB\n",
      "None\n"
     ]
    }
   ],
   "source": [
    "#get one data frame from base data that has only the id and the disease disagnoses\n",
    "base_data_id = base_data[['id']]\n",
    "base_data_disease = base_data.iloc[:, 7:17]\n",
    "base_data_trunc = base_data_id.merge(base_data_disease, left_index=True, right_index=True)\n",
    "\n",
    "#melt that dataframe so we have columns for id, disease, and diagnosis\n",
    "base_data_melt = pd.melt(base_data_trunc, id_vars = 'id')\n",
    "base_data_melt.columns = ['id', 'disease', 'diagnosis']\n",
    "print(base_data_melt.info())\n"
   ]
  },
  {
   "cell_type": "code",
   "execution_count": 9,
   "metadata": {},
   "outputs": [
    {
     "name": "stdout",
     "output_type": "stream",
     "text": [
      "No                 431619\n",
      "Inapplicable       147195\n",
      "Yes                 35735\n",
      "DK                    237\n",
      "not ascertained        57\n",
      "Refused                47\n",
      "Name: diagnosis, dtype: int64\n"
     ]
    }
   ],
   "source": [
    "#print the unique values and counts in diagnosis\n",
    "print(base_data_melt.diagnosis.value_counts())"
   ]
  },
  {
   "cell_type": "code",
   "execution_count": 10,
   "metadata": {},
   "outputs": [
    {
     "name": "stdout",
     "output_type": "stream",
     "text": [
      "1     0.614856\n",
      "2     0.210417\n",
      "3     0.085260\n",
      "4     0.042847\n",
      "5     0.026453\n",
      "6     0.011413\n",
      "7     0.006287\n",
      "8     0.001741\n",
      "9     0.000629\n",
      "10    0.000097\n",
      "Name: n, dtype: float64\n"
     ]
    }
   ],
   "source": [
    "#group by id and count the number of positive diagnoses\n",
    "patient_dis_count = base_data_melt[base_data_melt.diagnosis == 'Yes'].groupby('id').size().reset_index()\n",
    "patient_dis_count.columns = ('id', 'n')\n",
    "\n",
    "#print the proportion of patients with n diagnoses\n",
    "print(patient_dis_count.n.value_counts(normalize=True))"
   ]
  },
  {
   "cell_type": "markdown",
   "metadata": {},
   "source": [
    "#### Finally, I want to create two subsets of my tidy dataframe. One with patients who were only diagnosed with one disease, and one with patients who were diagnosed with two or fewer diseases."
   ]
  },
  {
   "cell_type": "code",
   "execution_count": 11,
   "metadata": {
    "collapsed": true
   },
   "outputs": [],
   "source": [
    "#get a dataframe with just the patients who were diagnosed with one disease\n",
    "single_dis = patient_dis_count[patient_dis_count.n == 1]\n",
    "\n",
    "#join back to melted data to get all diagnoses for each of these patients\n",
    "single_dis_df = base_data_melt.merge(single_dis, how='inner', left_on = 'id', right_on = 'id')"
   ]
  },
  {
   "cell_type": "code",
   "execution_count": 12,
   "metadata": {
    "collapsed": true
   },
   "outputs": [],
   "source": [
    "#get a datagrame with just the patients who were diagnosed with 2 or fewer diseases\n",
    "two_dis = patient_dis_count[patient_dis_count.n <= 2]\n",
    "\n",
    "#join back to melted data to get all diagnoses for each of these patients\n",
    "two_dis_df = base_data_melt.merge(two_dis, how='inner', left_on = 'id', right_on = 'id')"
   ]
  },
  {
   "cell_type": "markdown",
   "metadata": {},
   "source": [
    "#### I want to check to see if any patients were prescribed a medication more than once"
   ]
  },
  {
   "cell_type": "code",
   "execution_count": 13,
   "metadata": {},
   "outputs": [
    {
     "name": "stdout",
     "output_type": "stream",
     "text": [
      "<class 'pandas.core.frame.DataFrame'>\n",
      "Int64Index: 146310 entries, 0 to 242638\n",
      "Data columns (total 3 columns):\n",
      "id        146310 non-null int64\n",
      "rxName    146310 non-null object\n",
      "n         146310 non-null int64\n",
      "dtypes: int64(2), object(1)\n",
      "memory usage: 4.5+ MB\n",
      "None\n"
     ]
    }
   ],
   "source": [
    "#group medications data by id and rxName to get a unique list of medications prescribed to each patient\n",
    "meds_pat_count = meds_data.groupby(['id', 'rxName']).size().reset_index()\n",
    "meds_pat_count.columns = ('id', 'rxName', 'n')\n",
    "\n",
    "print(meds_pat_count[meds_pat_count.n>1].info())"
   ]
  },
  {
   "cell_type": "code",
   "execution_count": 14,
   "metadata": {},
   "outputs": [
    {
     "name": "stdout",
     "output_type": "stream",
     "text": [
      "         id        rxName  n\n",
      "0  10007101      ATENOLOL  4\n",
      "1  10007101  AZITHROMYCIN  1\n",
      "2  10007102  CARISOPRODOL  1\n",
      "3  10007102  HYDROCO/APAP  1\n",
      "4  10007102      TREXIMET  2\n"
     ]
    }
   ],
   "source": [
    "#inspect the top 5 records\n",
    "print(meds_pat_count.head())"
   ]
  },
  {
   "cell_type": "markdown",
   "metadata": {},
   "source": [
    "#### Since it looks like we can have multiple records for patients with the same medication, I want to inspect on of these scenarios to ensure that they aren't duplicated"
   ]
  },
  {
   "cell_type": "code",
   "execution_count": 15,
   "metadata": {},
   "outputs": [
    {
     "name": "stdout",
     "output_type": "stream",
     "text": [
      "               id  rxStartMonth  rxStartYear    rxName        rxNDC  \\\n",
      "152314   10007101            -1         2005  ATENOLOL  68382002210   \n",
      "2100000  10007101            -1         2005  ATENOLOL  68382002210   \n",
      "310115   10007101            -1         2005  ATENOLOL  68382002210   \n",
      "510000   10007101            12         2010  ATENOLOL  51079068463   \n",
      "\n",
      "         rxQuantity rxForm  \n",
      "152314         30.0   TABS  \n",
      "2100000        30.0   TABS  \n",
      "310115         30.0   TABS  \n",
      "510000         90.0    TAB  \n"
     ]
    }
   ],
   "source": [
    "print(meds_data[(meds_data.id == 10007101) & (meds_data.rxName=='ATENOLOL')])"
   ]
  },
  {
   "cell_type": "markdown",
   "metadata": {},
   "source": [
    "#### The negative codes in the month year seem strange to me. My first thought is that they are indicative of eroneous records. I want to examine thie month column values further though to check"
   ]
  },
  {
   "cell_type": "code",
   "execution_count": 16,
   "metadata": {},
   "outputs": [
    {
     "name": "stdout",
     "output_type": "stream",
     "text": [
      "-1     776549\n",
      "-8      46862\n",
      " 1      41646\n",
      " 2      33345\n",
      " 3      30912\n",
      " 6      26877\n",
      " 7      24598\n",
      " 8      23968\n",
      " 4      23198\n",
      " 10     22712\n",
      " 12     21881\n",
      " 9      21752\n",
      " 5      21666\n",
      " 11     21249\n",
      "-9      10922\n",
      "-7        210\n",
      "Name: rxStartMonth, dtype: int64\n"
     ]
    }
   ],
   "source": [
    "#inspect the rxStartMonth column to view unique values\n",
    "print(meds_data.rxStartMonth.value_counts())"
   ]
  },
  {
   "cell_type": "markdown",
   "metadata": {},
   "source": [
    "#### It looks like there are a number of negative codes mixed in with the different months. This tells me that there is likely meaning for each negative code. Since I don't have a data dictionary to help me interpret the negatives, I am going to ignore this column and treat each record as if it is accurate. I am also going to assume that duplicate medication entries for a patient are accurate."
   ]
  },
  {
   "cell_type": "markdown",
   "metadata": {},
   "source": [
    "#### I just want to take a look at the number of patients diagnosed with each disease in the datasets that I created above"
   ]
  },
  {
   "cell_type": "code",
   "execution_count": 17,
   "metadata": {},
   "outputs": [
    {
     "name": "stdout",
     "output_type": "stream",
     "text": [
      "highBPDiagnosed          13637\n",
      "asthmaDiagnosed           6001\n",
      "diabetesDiagnosed         4340\n",
      "otherHDDiagnosed          3868\n",
      "chdDiagnosed              2328\n",
      "strokeDiagnosed           1556\n",
      "miDiagnosed               1527\n",
      "anginaDiagnosed           1138\n",
      "emphysemaDiagnosed         907\n",
      "heartFailureDiagnosed      433\n",
      "Name: disease, dtype: int64\n"
     ]
    }
   ],
   "source": [
    "#print the number of patients diagnosed with each disease\n",
    "patient_counts = base_data_melt[base_data_melt.diagnosis=='Yes'].disease.value_counts()\n",
    "print(patient_counts)"
   ]
  },
  {
   "cell_type": "code",
   "execution_count": 18,
   "metadata": {},
   "outputs": [
    {
     "name": "stdout",
     "output_type": "stream",
     "text": [
      "highBPDiagnosed          6676\n",
      "asthmaDiagnosed          3942\n",
      "diabetesDiagnosed         833\n",
      "otherHDDiagnosed          817\n",
      "strokeDiagnosed           164\n",
      "emphysemaDiagnosed        100\n",
      "chdDiagnosed               80\n",
      "anginaDiagnosed            42\n",
      "miDiagnosed                41\n",
      "heartFailureDiagnosed      19\n",
      "Name: disease, dtype: int64\n"
     ]
    }
   ],
   "source": [
    "#print the number of patents diagnosed with each disease\n",
    "#but only for patients diagnosed with ONE disease\n",
    "single_pat_counts = single_dis_df[single_dis_df.diagnosis=='Yes'].disease.value_counts()\n",
    "print(single_pat_counts)"
   ]
  },
  {
   "cell_type": "code",
   "execution_count": 19,
   "metadata": {},
   "outputs": [
    {
     "name": "stdout",
     "output_type": "stream",
     "text": [
      "highBPDiagnosed          10398\n",
      "asthmaDiagnosed           4918\n",
      "diabetesDiagnosed         2576\n",
      "otherHDDiagnosed          1779\n",
      "strokeDiagnosed            582\n",
      "chdDiagnosed               388\n",
      "emphysemaDiagnosed         338\n",
      "miDiagnosed                207\n",
      "anginaDiagnosed            181\n",
      "heartFailureDiagnosed       49\n",
      "Name: disease, dtype: int64\n"
     ]
    }
   ],
   "source": [
    "#print the number of patents diagnosed with each disease\n",
    "#but only for patients diagnosed with ONE or TWO diseases\n",
    "two_pat_counts = two_dis_df[two_dis_df.diagnosis=='Yes'].disease.value_counts()\n",
    "print(two_pat_counts)"
   ]
  },
  {
   "cell_type": "markdown",
   "metadata": {},
   "source": [
    "### Top medications for each disease"
   ]
  },
  {
   "cell_type": "markdown",
   "metadata": {},
   "source": [
    "#### In order to get the medication prescribed the most to patients diagnosed with a disease, I first need to write a function to compile the diseases, medications, and prescriptions."
   ]
  },
  {
   "cell_type": "code",
   "execution_count": 20,
   "metadata": {},
   "outputs": [],
   "source": [
    "def med_counts(med_df, disease_df, disease):\n",
    "    \"\"\"\n",
    "    takes a dataframe of medications, a dataframe of disease diagnoses, and a disease\n",
    "    identifies medications prescribed to patients diagnosed with the target disease\n",
    "    returns a dictionary with keys = medications and values = number of patients prescribed\n",
    "    the dictionary is ordered by number of patients prescribed, descending\n",
    "    \"\"\"\n",
    "    #get dataframe of patients diagnosed with the target disease\n",
    "    disease_data = disease_df[(disease_df.disease == disease) & (disease_df.diagnosis == 'Yes')]\n",
    "\n",
    "    #join medications for those patients\n",
    "    disease_meds = disease_data.merge(med_df, how='inner', left_on='id', right_on='id')\n",
    "    \n",
    "    #count number of patients with each disease\n",
    "    med_counts = disease_meds.rxName.value_counts()\n",
    "    \n",
    "    #loop over each medication and create a dictionary with counts\n",
    "    med_dict = OrderedDict()\n",
    "    for i in range(len(med_counts)):\n",
    "        med = med_counts.index[i]\n",
    "        med_n = med_counts[i]\n",
    "        \n",
    "        med_dict[med] = med_n\n",
    "    \n",
    "    return med_dict    "
   ]
  },
  {
   "cell_type": "code",
   "execution_count": 21,
   "metadata": {},
   "outputs": [
    {
     "name": "stdout",
     "output_type": "stream",
     "text": [
      "highBPDiagnosed: [('LISINOPRIL', 2996), ('SIMVASTATIN', 2184), ('HYDROCHLOROTHIAZIDE', 1464), ('LIPITOR', 1351)]\n",
      "diabetesDiagnosed: [('METFORMIN', 1543), ('LISINOPRIL', 1214), ('SIMVASTATIN', 1019), ('LIPITOR', 619)]\n",
      "chdDiagnosed: [('SIMVASTATIN', 606), ('LISINOPRIL', 601), ('FUROSEMIDE', 537), ('PLAVIX', 457)]\n",
      "miDiagnosed: [('LISINOPRIL', 439), ('SIMVASTATIN', 408), ('FUROSEMIDE', 360), ('PLAVIX', 349)]\n",
      "anginaDiagnosed: [('LISINOPRIL', 269), ('SIMVASTATIN', 263), ('FUROSEMIDE', 245), ('PLAVIX', 241)]\n",
      "strokeDiagnosed: [('SIMVASTATIN', 376), ('LISINOPRIL', 372), ('FUROSEMIDE', 290), ('PLAVIX', 269)]\n",
      "emphysemaDiagnosed: [('LISINOPRIL', 183), ('ALBUTEROL', 177), ('SIMVASTATIN', 166), ('FUROSEMIDE', 155)]\n",
      "asthmaDiagnosed: [('ALBUTEROL', 1174), ('AMOXICILLIN', 795), ('AZITHROMYCIN', 789), ('PROAIR HFA', 717)]\n",
      "otherHDDiagnosed: [('LISINOPRIL', 738), ('SIMVASTATIN', 665), ('FUROSEMIDE', 615), ('AZITHROMYCIN', 465)]\n",
      "heartFailureDiagnosed: [('FUROSEMIDE', 235), ('LISINOPRIL', 152), ('CARVEDILOL', 104), ('SIMVASTATIN', 84)]\n"
     ]
    }
   ],
   "source": [
    "#get the list of medications prescibed for each disease\n",
    "#this is regardles of how many diseases these patients were diagnosed with\n",
    "\n",
    "disease_dict = {}\n",
    "\n",
    "#loop over each disease and get the count of each med prescribed to any patient with that disease\n",
    "for disease in base_data_melt.disease.unique():\n",
    "    disease_dict[disease] = med_counts(meds_pat_count, base_data_melt, disease)\n",
    "    #print the top 4 medications prescribed to patiens with the disease\n",
    "    top_disease = list(disease_dict[disease].items())[0:4]\n",
    "    print(disease + \": \" + str(top_disease))"
   ]
  },
  {
   "cell_type": "code",
   "execution_count": 22,
   "metadata": {},
   "outputs": [
    {
     "name": "stdout",
     "output_type": "stream",
     "text": [
      "highBPDiagnosed\n",
      "LISINOPRIL\n",
      "\n",
      "diabetesDiagnosed\n",
      "METFORMIN\n",
      "\n",
      "chdDiagnosed\n",
      "SIMVASTATIN\n",
      "\n",
      "miDiagnosed\n",
      "LISINOPRIL\n",
      "\n",
      "anginaDiagnosed\n",
      "LISINOPRIL\n",
      "\n",
      "strokeDiagnosed\n",
      "SIMVASTATIN\n",
      "\n",
      "emphysemaDiagnosed\n",
      "LISINOPRIL\n",
      "\n",
      "asthmaDiagnosed\n",
      "ALBUTEROL\n",
      "\n",
      "otherHDDiagnosed\n",
      "LISINOPRIL\n",
      "\n",
      "heartFailureDiagnosed\n",
      "FUROSEMIDE\n",
      "\n"
     ]
    }
   ],
   "source": [
    "for disease in base_data_melt.disease.unique():\n",
    "    print(disease)\n",
    "    top_disease = list(disease_dict[disease].keys())[0]\n",
    "    print(top_disease)\n",
    "    print()"
   ]
  },
  {
   "cell_type": "markdown",
   "metadata": {},
   "source": [
    "#### The lists above are interesting but they aren't very interpretable. As we can see, Lisonopril was diagnosed the most to patients with 5 of the 10 diseases. This could be interpreted a few ways. One, is that Lisinopril is a medication which has utility for a number of diseases and is therefore prescribed frequently  for a myriad of patients. Another interpretation is that Lisinopril is prescribed frequently for one disease that is often diagnosed with other diseases. The likely scenario is some combination of both of the above posibilities\n",
    "\n",
    "#### Since I don't have the ability to ascertain WHY a medication was prescribed it is imposible to get meaning out of a dataset with patients who were diagnosed with multiple diseases\n",
    "\n",
    "\n",
    "#### So, I want to do ths same exercise, but only using data for patients who were diagnosed with ONE disease"
   ]
  },
  {
   "cell_type": "code",
   "execution_count": 23,
   "metadata": {},
   "outputs": [
    {
     "name": "stdout",
     "output_type": "stream",
     "text": [
      "highBPDiagnosed: [('LISINOPRIL', 1103), ('SIMVASTATIN', 670), ('HYDROCHLOROTHIAZIDE', 644), ('AZITHROMYCIN', 608)]\n",
      "diabetesDiagnosed: [('METFORMIN', 309), ('LISINOPRIL', 144), ('SIMVASTATIN', 125), ('METFORMIN HCL', 118)]\n",
      "chdDiagnosed: [('SIMVASTATIN', 12), ('IBUPROFEN', 7), ('AMOXICILLIN', 6), ('FUROSEMIDE', 6)]\n",
      "miDiagnosed: [('HYDROCO/APAP', 7), ('SIMVASTATIN', 6), ('LIPITOR', 5), ('LISINOPRIL', 5)]\n",
      "anginaDiagnosed: [('AZITHROMYCIN', 7), ('AMOXICILLIN', 4), ('IBUPROFEN', 3), ('LEVOTHYROXINE SODIUM', 3)]\n",
      "strokeDiagnosed: [('SIMVASTATIN', 23), ('AZITHROMYCIN', 20), ('AMOXICILLIN', 17), ('IBUPROFEN', 12)]\n",
      "emphysemaDiagnosed: [('SPIRIVA', 12), ('PREDNISONE', 11), ('AZITHROMYCIN', 10), ('AMOXICILLIN', 9)]\n",
      "asthmaDiagnosed: [('ALBUTEROL', 809), ('AMOXICILLIN', 591), ('AZITHROMYCIN', 476), ('SINGULAIR', 460)]\n",
      "otherHDDiagnosed: [('AMOXICILLIN', 111), ('AZITHROMYCIN', 107), ('IBUPROFEN', 60), ('SIMVASTATIN', 49)]\n",
      "heartFailureDiagnosed: [('SYNTHROID', 2), ('FUROSEMIDE', 2), ('AMLODIPINE', 2), ('CARVEDILOL', 2)]\n"
     ]
    }
   ],
   "source": [
    "#get the dictionary of medications prescribed for each disease\n",
    "#but only for patients diagnosed with ONE disease\n",
    "disease_dict_single = {}\n",
    "\n",
    "for disease in base_data_melt.disease.unique():\n",
    "    disease_dict_single[disease] = med_counts(meds_pat_count, single_dis_df, disease)\n",
    "    top_disease = list(disease_dict_single[disease].items())[0:4]\n",
    "    print(disease + \": \" + str(top_disease))"
   ]
  },
  {
   "cell_type": "code",
   "execution_count": 24,
   "metadata": {},
   "outputs": [
    {
     "name": "stdout",
     "output_type": "stream",
     "text": [
      "highBPDiagnosed\n",
      "LISINOPRIL\n",
      "\n",
      "diabetesDiagnosed\n",
      "METFORMIN\n",
      "\n",
      "chdDiagnosed\n",
      "SIMVASTATIN\n",
      "\n",
      "miDiagnosed\n",
      "HYDROCO/APAP\n",
      "\n",
      "anginaDiagnosed\n",
      "AZITHROMYCIN\n",
      "\n",
      "strokeDiagnosed\n",
      "SIMVASTATIN\n",
      "\n",
      "emphysemaDiagnosed\n",
      "SPIRIVA\n",
      "\n",
      "asthmaDiagnosed\n",
      "ALBUTEROL\n",
      "\n",
      "otherHDDiagnosed\n",
      "AMOXICILLIN\n",
      "\n",
      "heartFailureDiagnosed\n",
      "SYNTHROID\n",
      "\n"
     ]
    }
   ],
   "source": [
    "for disease in base_data_melt.disease.unique():\n",
    "    print(disease)\n",
    "    top_disease = list(disease_dict_single[disease].keys())[0]\n",
    "    print(top_disease)\n",
    "    print()"
   ]
  },
  {
   "cell_type": "markdown",
   "metadata": {},
   "source": [
    "#### Looking at this list, we now see a unique medication for almost all of the diseases. At face value this would seem to answer our next question (what medications are the most indicative of each disease?) but when looking closer it seems that many diseases share top medications. In the next section I will try to solve this issue."
   ]
  },
  {
   "cell_type": "code",
   "execution_count": 26,
   "metadata": {},
   "outputs": [
    {
     "name": "stdout",
     "output_type": "stream",
     "text": [
      "highBPDiagnosed: [('LISINOPRIL', 2035), ('SIMVASTATIN', 1366), ('HYDROCHLOROTHIAZIDE', 1124), ('AZITHROMYCIN', 976)]\n",
      "diabetesDiagnosed: [('METFORMIN', 967), ('LISINOPRIL', 655), ('SIMVASTATIN', 522), ('METFORMIN HCL', 381)]\n",
      "chdDiagnosed: [('SIMVASTATIN', 82), ('LISINOPRIL', 58), ('LIPITOR', 48), ('AZITHROMYCIN', 41)]\n",
      "miDiagnosed: [('SIMVASTATIN', 39), ('LISINOPRIL', 38), ('LIPITOR', 28), ('AZITHROMYCIN', 25)]\n",
      "anginaDiagnosed: [('OMEPRAZOLE', 25), ('SIMVASTATIN', 24), ('AZITHROMYCIN', 24), ('ATENOLOL', 18)]\n",
      "strokeDiagnosed: [('SIMVASTATIN', 117), ('LISINOPRIL', 106), ('HYDROCHLOROTHIAZIDE', 59), ('AZITHROMYCIN', 56)]\n",
      "emphysemaDiagnosed: [('AZITHROMYCIN', 50), ('PREDNISONE', 50), ('ALBUTEROL', 46), ('SPIRIVA', 41)]\n",
      "asthmaDiagnosed: [('ALBUTEROL', 962), ('AMOXICILLIN', 701), ('AZITHROMYCIN', 631), ('SINGULAIR', 567)]\n",
      "otherHDDiagnosed: [('AZITHROMYCIN', 220), ('AMOXICILLIN', 207), ('SIMVASTATIN', 175), ('LISINOPRIL', 160)]\n",
      "heartFailureDiagnosed: [('FUROSEMIDE', 15), ('LISINOPRIL', 9), ('CARVEDILOL', 7), ('NEXIUM', 6)]\n"
     ]
    }
   ],
   "source": [
    "#create a dictionary for patients with two or fewer diseases. I will use this in the next section.\n",
    "disease_dict_two = {}\n",
    "\n",
    "for disease in base_data_melt.disease.unique():\n",
    "    disease_dict_two[disease] = med_counts(meds_pat_count, two_dis_df, disease)\n",
    "    top_disease = list(disease_dict_two[disease].items())[0:4]\n",
    "    print(disease + \": \" + str(top_disease))"
   ]
  },
  {
   "cell_type": "markdown",
   "metadata": {},
   "source": [
    "### Meds indicative of each disease"
   ]
  },
  {
   "cell_type": "code",
   "execution_count": 27,
   "metadata": {
    "collapsed": true
   },
   "outputs": [],
   "source": [
    "def unique_meds(disease_dict, disease, unique_dis, n):\n",
    "    \"\"\"\n",
    "    gets the list of medications unique to a certain disease \n",
    "    from the top n most prescribed medications for each disease\n",
    "    prints a list of tuples with medication names and number of patients prescribed each medication\n",
    "    \n",
    "    disease dict = a nested dict with top-level keys = diseases and second-level keys = medications\n",
    "                   values of second level dict are number of patients prescribed that medication\n",
    "    diseaes = target disease\n",
    "    unique_dis = iterable of unique diseases in dictionary\n",
    "    n = number of medications to pull from dictionary\n",
    "    \n",
    "    \"\"\"\n",
    "    #get a list with every disease other than the one we are currently inspecting\n",
    "    other_dis = [dis for dis in unique_dis if dis != disease]\n",
    "\n",
    "    #get set containing the unique, top n meds prescribed to each of the \"other\" diseases\n",
    "    meds_set = set()\n",
    "    for dis in other_dis:\n",
    "        top_meds = list(disease_dict[dis].keys())[:n]\n",
    "        meds_set.update(set(top_meds))\n",
    "\n",
    "    #get a list of the top n meds prescribed for the target disease\n",
    "    target_meds = list(disease_dict[disease].keys())[:n]\n",
    "\n",
    "    #get a list of the unique meds for the disease\n",
    "    x = [med for med in target_meds if med not in meds_set]\n",
    "    #get a count for the number of times that med was prescribed for the target disease\n",
    "    y = [disease_dict[disease][med] for med in x]\n",
    "    #zip and print meds and prescription counts\n",
    "    return list(zip(x, y))"
   ]
  },
  {
   "cell_type": "code",
   "execution_count": 28,
   "metadata": {},
   "outputs": [
    {
     "name": "stdout",
     "output_type": "stream",
     "text": [
      "highBPDiagnosed 6676\n",
      "[('HYDROCHLOROT', 445), ('AMLODIPINE BESYLATE', 398)]\n",
      "diabetesDiagnosed 833\n",
      "[('METFORMIN', 309), ('METFORMIN HCL', 118), ('ACTOS', 110), ('ONETOUCH', 108), ('METFORMIN HYDROCHLORIDE', 95), ('GLIPIZIDE', 93), ('GLYBURIDE', 81)]\n",
      "chdDiagnosed 80\n",
      "[('METOPROL TAR', 5)]\n",
      "miDiagnosed 41\n",
      "[('PLAVIX', 5), ('METOPROLOL SUCCINATE ER', 4), ('PANTOPRAZOLE', 4), ('METOPROLOL TARTRATE', 4)]\n",
      "anginaDiagnosed 42\n",
      "[('LEVOTHYROXINE SODIUM', 3), ('PRISTIQ', 2), ('ACETAMINOPHEN-HYDROCODONE BITARTRATE', 2), ('DIAZEPAM', 2)]\n",
      "strokeDiagnosed 164\n",
      "[('GABAPENTIN', 8)]\n",
      "emphysemaDiagnosed 100\n",
      "[('SPIRIVA', 12), ('CLONAZEPAM', 8), ('ALPRAZOLAM', 8), ('ADVAIR DISKU', 8)]\n",
      "asthmaDiagnosed 3942\n",
      "[('SINGULAIR', 460), ('PROAIR HFA', 405), ('VENTOLIN HFA', 213), ('PROVENTIL', 171), ('ADVAIR DISKUS', 157)]\n",
      "otherHDDiagnosed 817\n",
      "[('NAPROXEN', 36), ('OMEPRAZOLE', 33)]\n",
      "heartFailureDiagnosed 19\n",
      "[('CARVEDILOL', 2), ('TRAMADOL HCL', 2), ('CLOBETASOL PROPIONATE', 1), ('FOLBIC', 1), ('CEROVITE SILVER', 1)]\n"
     ]
    }
   ],
   "source": [
    "#inspect the unique meds prescribed for each disease\n",
    "#for patients only diagnosed with one disease\n",
    "\n",
    "#loop over unique list of diseases\n",
    "unique_diseases_one = list(disease_dict_single.keys())\n",
    "for dis in unique_diseases_one:\n",
    "    #print the number of patients diagnosed with the disease\n",
    "    print(dis, single_pat_counts[dis])\n",
    "    #print the list of uniuqe meds and patients to whom they were prescribed\n",
    "    print(unique_meds(disease_dict_single, dis, unique_diseases_one, 10))"
   ]
  },
  {
   "cell_type": "code",
   "execution_count": 29,
   "metadata": {},
   "outputs": [
    {
     "name": "stdout",
     "output_type": "stream",
     "text": [
      "highBPDiagnosed Number of Patients: 6676\n",
      "HYDROCHLOROT: 0.0667\n",
      "\n",
      "diabetesDiagnosed Number of Patients: 833\n",
      "METFORMIN: 0.3709\n",
      "\n",
      "chdDiagnosed Number of Patients: 80\n",
      "METOPROL TAR: 0.0625\n",
      "\n",
      "miDiagnosed Number of Patients: 41\n",
      "PLAVIX: 0.122\n",
      "\n",
      "anginaDiagnosed Number of Patients: 42\n",
      "LEVOTHYROXINE SODIUM: 0.0714\n",
      "\n",
      "strokeDiagnosed Number of Patients: 164\n",
      "GABAPENTIN: 0.0488\n",
      "\n",
      "emphysemaDiagnosed Number of Patients: 100\n",
      "SPIRIVA: 0.12\n",
      "\n",
      "asthmaDiagnosed Number of Patients: 3942\n",
      "SINGULAIR: 0.1167\n",
      "\n",
      "otherHDDiagnosed Number of Patients: 817\n",
      "NAPROXEN: 0.0441\n",
      "\n",
      "heartFailureDiagnosed Number of Patients: 19\n",
      "CARVEDILOL: 0.1053\n",
      "\n"
     ]
    }
   ],
   "source": [
    "#repeat of previous cell excep only print the name of the top most prescribed med\n",
    "\n",
    "unique_diseases_one = list(disease_dict_single.keys())\n",
    "for dis in unique_diseases_one:\n",
    "    print(dis, 'Number of Patients:', single_pat_counts[dis])\n",
    "    #print(len(unique_meds(disease_dict_single, dis, unique_diseases_one, 10)))\n",
    "    top_med = unique_meds(disease_dict_single, dis, unique_diseases_one, 10)[0][0]\n",
    "    num_patients = unique_meds(disease_dict_single, dis, unique_diseases_one, 10)[0][1]\n",
    "    prop_patients = round(num_patients / single_pat_counts[dis], 4)\n",
    "    print(top_med +\": \"+ str(prop_patients))\n",
    "    print()"
   ]
  },
  {
   "cell_type": "markdown",
   "metadata": {},
   "source": [
    "#### I wanted to perform the same analysis for the patients who were diagnosed with one or two diseases and for all patents in the dataset. What I found is that in order to find a uniuqe medication for each disease, I had to choose many more medications to compare. The result was that, generally, a smaller proportion of patients diagnosed with a particular disease were prescribed the medication that was indicated by the analysis.\n",
    "\n",
    "#### If I used all of the data in the dataset, I could not find a unique medication for every disease, even after looking at the top 50 medications for each disease."
   ]
  },
  {
   "cell_type": "code",
   "execution_count": 30,
   "metadata": {},
   "outputs": [
    {
     "name": "stdout",
     "output_type": "stream",
     "text": [
      "highBPDiagnosed 10398\n",
      "[('DIOVAN', 442), ('LISINOP/HCTZ', 321)]\n",
      "diabetesDiagnosed 2576\n",
      "[('METFORMIN HCL', 381), ('ONETOUCH', 350), ('METFORMIN HYDROCHLORIDE', 329), ('ACTOS', 323), ('GLIPIZIDE', 310), ('GLYBURIDE', 273), ('LANTUS', 220), ('INSULIN SYRG', 207), ('HUMULIN N', 200), ('GLIMEPIRIDE', 199), ('NOVOLIN N', 171), ('JANUVIA', 139), ('TRUETRACK SMART SYSTEM (MONITOR)', 138), ('BAYER CONTOR', 136)]\n",
      "chdDiagnosed 388\n",
      "[('PRAVASTATIN', 15)]\n",
      "miDiagnosed 207\n",
      "[('RANITIDINE', 8)]\n",
      "anginaDiagnosed 181\n",
      "[('PREVACID', 11), ('LYRICA', 10), ('TRAMADOL HYDROCHLORIDE', 10)]\n",
      "strokeDiagnosed 582\n",
      "[('LEXAPRO', 25), ('SIMVASTATIN (FILM-COATED)', 24), ('AGGRENOX', 24)]\n",
      "emphysemaDiagnosed 338\n",
      "[('SPIRIVA', 41), ('COMBIVENT', 25), ('SPIRIVA (W/ HANDIHALER)', 24), ('CLONAZEPAM', 18), ('LORAZEPAM', 17), ('TRAZODONE', 17)]\n",
      "asthmaDiagnosed 4918\n",
      "[('SINGULAIR', 567), ('VENTOLIN HFA', 267), ('PROVENTIL', 216), ('SINGULAIR (UNIT OF USE)', 168), ('ALBUTEROL SULFATE', 149), ('FLOVENT HFA', 148), ('NASONEX', 141), ('LORATADINE', 133), ('PROVENTIL HFA', 117), ('ZITHROMAX', 117), ('VICODIN', 110), ('CEPHALEXIN', 107), ('SYMBICORT', 102)]\n",
      "otherHDDiagnosed 1779\n",
      "[('CELEBREX', 55)]\n",
      "heartFailureDiagnosed 49\n",
      "[('CARVEDILOL', 7), ('SPIRONOLACT', 4), ('ENALAPRIL', 3), ('POT CL MICRO', 3), ('SPIRONOLACTONE', 3), ('ENALAPRIL MALEATE', 3)]\n"
     ]
    }
   ],
   "source": [
    "#print uniuqe meds and counts for patients diagnosed with ONE or TWO diseases\n",
    "\n",
    "unique_diseases_two = list(disease_dict_two.keys())\n",
    "for dis in unique_diseases_two:\n",
    "    print(dis, two_pat_counts[dis])\n",
    "    print(unique_meds(disease_dict_two, dis, unique_diseases_two, 29))"
   ]
  },
  {
   "cell_type": "code",
   "execution_count": 31,
   "metadata": {},
   "outputs": [
    {
     "name": "stdout",
     "output_type": "stream",
     "text": [
      "highBPDiagnosed Number of Patients: 10398\n",
      "DIOVAN: 0.0425\n",
      "\n",
      "diabetesDiagnosed Number of Patients: 2576\n",
      "METFORMIN HCL: 0.1479\n",
      "\n",
      "chdDiagnosed Number of Patients: 388\n",
      "PRAVASTATIN: 0.0387\n",
      "\n",
      "miDiagnosed Number of Patients: 207\n",
      "RANITIDINE: 0.0386\n",
      "\n",
      "anginaDiagnosed Number of Patients: 181\n",
      "PREVACID: 0.0608\n",
      "\n",
      "strokeDiagnosed Number of Patients: 582\n",
      "LEXAPRO: 0.043\n",
      "\n",
      "emphysemaDiagnosed Number of Patients: 338\n",
      "SPIRIVA: 0.1213\n",
      "\n",
      "asthmaDiagnosed Number of Patients: 4918\n",
      "SINGULAIR: 0.1153\n",
      "\n",
      "otherHDDiagnosed Number of Patients: 1779\n",
      "CELEBREX: 0.0309\n",
      "\n",
      "heartFailureDiagnosed Number of Patients: 49\n",
      "CARVEDILOL: 0.1429\n",
      "\n"
     ]
    }
   ],
   "source": [
    "unique_diseases_two = list(disease_dict_two.keys())\n",
    "for dis in unique_diseases_two:\n",
    "    print(dis, 'Number of Patients:', two_pat_counts[dis])\n",
    "    #print(unique_meds(disease_dict_two, dis, unique_diseases_two, 19))\n",
    "    \n",
    "    meds = unique_meds(disease_dict_two, dis, unique_diseases_two, 29)\n",
    "    top_med = meds[0][0]\n",
    "    num_patients = meds[0][1]\n",
    "    prop_patients = round(num_patients / two_pat_counts[dis], 4)\n",
    "    print(top_med +\": \"+ str(prop_patients))\n",
    "    print()"
   ]
  },
  {
   "cell_type": "code",
   "execution_count": 32,
   "metadata": {},
   "outputs": [
    {
     "name": "stdout",
     "output_type": "stream",
     "text": [
      "highBPDiagnosed 13637\n",
      "[('LISINOP/HCTZ', 395), ('DIOVAN HCT', 371), ('MELOXICAM', 370), ('NORVASC', 359)]\n",
      "diabetesDiagnosed 4340\n",
      "[('GLIMEPIRIDE', 354), ('BAYER CONTOR', 281), ('JANUVIA', 234), ('FREESTYLE', 190), ('ACCU-CHEK', 186)]\n",
      "chdDiagnosed 2328\n",
      "[('ALLOPURINOL', 113), ('TRICOR', 108)]\n",
      "miDiagnosed 1527\n",
      "[('RANITIDINE', 76)]\n",
      "anginaDiagnosed 1138\n",
      "[('ISOSORB MONO', 60)]\n",
      "strokeDiagnosed 1556\n",
      "[('SIMVASTATIN (FILM-COATED)', 65)]\n",
      "emphysemaDiagnosed 907\n",
      "[('SPIRIVA', 141), ('COMBIVENT', 84), ('SPIRIVA (W/ HANDIHALER)', 53), ('LEVAQUIN', 49), ('CLONAZEPAM', 49), ('CELEBREX', 44)]\n",
      "asthmaDiagnosed 6001\n",
      "[('SINGULAIR (UNIT OF USE)', 218), ('NASONEX', 181), ('LORATADINE', 179), ('FLOVENT HFA', 177), ('PROVENTIL HFA', 158), ('CEPHALEXIN', 148), ('VICODIN', 141), ('ZITHROMAX', 140), ('FLUTICASONE PROPIONATE', 133), ('FLUTICASONE', 125), ('CYMBALTA', 122), ('ADVAIR', 121), ('CYCLOBENZAPR', 120)]\n",
      "otherHDDiagnosed 3868\n",
      "[]\n",
      "heartFailureDiagnosed 433\n",
      "[('LASIX', 38), ('SPIRONOLACTONE', 36), ('SPIRONOLACT', 35), ('POTASSIUM CHLORIDE', 33), ('POTASSIUM CHLORIDE SR', 31), ('CARVEDILOL (FILM-COATED)', 28), ('KLOR-CON 10', 26)]\n"
     ]
    }
   ],
   "source": [
    "#print uniuqe meds for using all patients in the dataset\n",
    "\n",
    "unique_diseases = list(disease_dict.keys())\n",
    "for dis in unique_diseases:\n",
    "    print(dis, patient_counts[dis])\n",
    "    print(unique_meds(disease_dict, dis, unique_diseases, 50))"
   ]
  },
  {
   "cell_type": "code",
   "execution_count": null,
   "metadata": {
    "collapsed": true
   },
   "outputs": [],
   "source": []
  }
 ],
 "metadata": {
  "kernelspec": {
   "display_name": "Python 3",
   "language": "python",
   "name": "python3"
  },
  "language_info": {
   "codemirror_mode": {
    "name": "ipython",
    "version": 3
   },
   "file_extension": ".py",
   "mimetype": "text/x-python",
   "name": "python",
   "nbconvert_exporter": "python",
   "pygments_lexer": "ipython3",
   "version": "3.6.3"
  }
 },
 "nbformat": 4,
 "nbformat_minor": 2
}

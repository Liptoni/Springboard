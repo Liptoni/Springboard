{
 "cells": [
  {
   "cell_type": "code",
   "execution_count": 1,
   "metadata": {
    "collapsed": true
   },
   "outputs": [],
   "source": [
    "import pandas as pd\n",
    "import numpy as np\n",
    "from sklearn.model_selection import train_test_split\n",
    "from sklearn.linear_model import LogisticRegression\n",
    "from sklearn.metrics import roc_curve, classification_report\n",
    "import matplotlib.pyplot as plt\n",
    "\n",
    "%matplotlib inline"
   ]
  },
  {
   "cell_type": "markdown",
   "metadata": {},
   "source": [
    "## Data Cleanup"
   ]
  },
  {
   "cell_type": "code",
   "execution_count": 2,
   "metadata": {},
   "outputs": [
    {
     "name": "stdout",
     "output_type": "stream",
     "text": [
      "<class 'pandas.core.frame.DataFrame'>\n",
      "Int64Index: 12000 entries, 1 to 12000\n",
      "Data columns (total 10 columns):\n",
      "creation_time                 12000 non-null datetime64[ns]\n",
      "name                          12000 non-null object\n",
      "email                         12000 non-null object\n",
      "creation_source               12000 non-null object\n",
      "last_session_creation_time    12000 non-null datetime64[ns]\n",
      "opted_in_to_mailing_list      12000 non-null int64\n",
      "enabled_for_marketing_drip    12000 non-null int64\n",
      "org_id                        12000 non-null int64\n",
      "invited_by_user_id            6417 non-null object\n",
      "time_between                  12000 non-null float64\n",
      "dtypes: datetime64[ns](2), float64(1), int64(3), object(4)\n",
      "memory usage: 1.3+ MB\n",
      "None\n",
      "                creation_time               name                       email  \\\n",
      "object_id                                                                      \n",
      "1         2014-04-22 03:53:30     Clausen August    AugustCClausen@yahoo.com   \n",
      "2         2013-11-15 03:45:04      Poole Matthew      MatthewPoole@gustr.com   \n",
      "3         2013-03-19 23:14:52  Bottrill Mitchell  MitchellBottrill@gustr.com   \n",
      "4         2013-05-21 08:09:28    Clausen Nicklas   NicklasSClausen@yahoo.com   \n",
      "5         2013-01-17 10:14:20          Raw Grace          GraceRaw@yahoo.com   \n",
      "\n",
      "          creation_source last_session_creation_time  \\\n",
      "object_id                                              \n",
      "1            GUEST_INVITE        2014-04-22 03:53:30   \n",
      "2              ORG_INVITE        2014-03-31 03:45:04   \n",
      "3              ORG_INVITE        2013-03-19 23:14:52   \n",
      "4            GUEST_INVITE        2013-05-22 08:09:28   \n",
      "5            GUEST_INVITE        2013-01-22 10:14:20   \n",
      "\n",
      "           opted_in_to_mailing_list  enabled_for_marketing_drip  org_id  \\\n",
      "object_id                                                                 \n",
      "1                                 1                           0      11   \n",
      "2                                 0                           0       1   \n",
      "3                                 0                           0      94   \n",
      "4                                 0                           0       1   \n",
      "5                                 0                           0     193   \n",
      "\n",
      "          invited_by_user_id  time_between  \n",
      "object_id                                   \n",
      "1                      10803           0.0  \n",
      "2                        316         136.0  \n",
      "3                       1525           0.0  \n",
      "4                       5151           1.0  \n",
      "5                       5240           5.0  \n"
     ]
    }
   ],
   "source": [
    "#import users data\n",
    "users = pd.read_csv('takehome_users.csv', encoding = \"ISO-8859-1\", index_col='object_id', \n",
    "                    dtype={'invited_by_user_id':np.object})\n",
    "\n",
    "#convert last session and creation time to datetimes\n",
    "users['last_session_creation_time'] = pd.to_datetime(users['last_session_creation_time'], unit='s')\n",
    "users['creation_time'] = pd.to_datetime(users['creation_time'])\n",
    "\n",
    "#fill missing last session with original creation time\n",
    "users['last_session_creation_time'] = users['last_session_creation_time'].fillna(users['creation_time'])\n",
    "\n",
    "#calculate the time between creation and the most recent session\n",
    "users['time_between'] = users['last_session_creation_time'] - users['creation_time']\n",
    "users['time_between'] = users['time_between'].apply(lambda x: float(x.days))\n",
    "\n",
    "print(users.info())\n",
    "print(users.head())\n"
   ]
  },
  {
   "cell_type": "code",
   "execution_count": 3,
   "metadata": {},
   "outputs": [
    {
     "name": "stdout",
     "output_type": "stream",
     "text": [
      "<class 'pandas.core.frame.DataFrame'>\n",
      "RangeIndex: 207917 entries, 0 to 207916\n",
      "Data columns (total 3 columns):\n",
      "time_stamp    207917 non-null datetime64[ns]\n",
      "user_id       207917 non-null int64\n",
      "visited       207917 non-null int64\n",
      "dtypes: datetime64[ns](1), int64(2)\n",
      "memory usage: 4.8 MB\n",
      "None\n",
      "           time_stamp  user_id  visited\n",
      "0 2014-04-22 03:53:30        1        1\n",
      "1 2013-11-15 03:45:04        2        1\n",
      "2 2013-11-29 03:45:04        2        1\n",
      "3 2013-12-09 03:45:04        2        1\n",
      "4 2013-12-25 03:45:04        2        1\n"
     ]
    }
   ],
   "source": [
    "#import usage data\n",
    "usage = pd.read_csv('takehome_user_engagement.csv')\n",
    "\n",
    "#convert time_stamp to datetime\n",
    "usage['time_stamp'] = pd.to_datetime(usage['time_stamp'])\n",
    "\n",
    "print(usage.info())\n",
    "print(usage.head())"
   ]
  },
  {
   "cell_type": "code",
   "execution_count": 4,
   "metadata": {
    "collapsed": true
   },
   "outputs": [],
   "source": [
    "#calc total visits per user, join to users table\n",
    "total_visits = usage.user_id.value_counts()\n",
    "total_visits = total_visits.rename('total_visits')\n",
    "users = users.join(total_visits)\n",
    "users['total_visits'] = users['total_visits'].fillna(0)\n"
   ]
  },
  {
   "cell_type": "code",
   "execution_count": 5,
   "metadata": {},
   "outputs": [
    {
     "name": "stdout",
     "output_type": "stream",
     "text": [
      "<class 'pandas.core.frame.DataFrame'>\n",
      "Int64Index: 12000 entries, 1 to 12000\n",
      "Data columns (total 12 columns):\n",
      "creation_time                 12000 non-null datetime64[ns]\n",
      "name                          12000 non-null object\n",
      "email                         12000 non-null object\n",
      "creation_source               12000 non-null object\n",
      "last_session_creation_time    12000 non-null datetime64[ns]\n",
      "opted_in_to_mailing_list      12000 non-null int64\n",
      "enabled_for_marketing_drip    12000 non-null int64\n",
      "org_id                        12000 non-null int64\n",
      "invited_by_user_id            6417 non-null object\n",
      "time_between                  12000 non-null float64\n",
      "total_visits                  12000 non-null float64\n",
      "adopted                       12000 non-null float64\n",
      "dtypes: datetime64[ns](2), float64(3), int64(3), object(4)\n",
      "memory usage: 1.5+ MB\n",
      "None\n",
      "                creation_time               name                       email  \\\n",
      "object_id                                                                      \n",
      "1         2014-04-22 03:53:30     Clausen August    AugustCClausen@yahoo.com   \n",
      "2         2013-11-15 03:45:04      Poole Matthew      MatthewPoole@gustr.com   \n",
      "3         2013-03-19 23:14:52  Bottrill Mitchell  MitchellBottrill@gustr.com   \n",
      "4         2013-05-21 08:09:28    Clausen Nicklas   NicklasSClausen@yahoo.com   \n",
      "5         2013-01-17 10:14:20          Raw Grace          GraceRaw@yahoo.com   \n",
      "\n",
      "          creation_source last_session_creation_time  \\\n",
      "object_id                                              \n",
      "1            GUEST_INVITE        2014-04-22 03:53:30   \n",
      "2              ORG_INVITE        2014-03-31 03:45:04   \n",
      "3              ORG_INVITE        2013-03-19 23:14:52   \n",
      "4            GUEST_INVITE        2013-05-22 08:09:28   \n",
      "5            GUEST_INVITE        2013-01-22 10:14:20   \n",
      "\n",
      "           opted_in_to_mailing_list  enabled_for_marketing_drip  org_id  \\\n",
      "object_id                                                                 \n",
      "1                                 1                           0      11   \n",
      "2                                 0                           0       1   \n",
      "3                                 0                           0      94   \n",
      "4                                 0                           0       1   \n",
      "5                                 0                           0     193   \n",
      "\n",
      "          invited_by_user_id  time_between  total_visits  adopted  \n",
      "object_id                                                          \n",
      "1                      10803           0.0           1.0      0.0  \n",
      "2                        316         136.0          14.0      1.0  \n",
      "3                       1525           0.0           1.0      0.0  \n",
      "4                       5151           1.0           1.0      0.0  \n",
      "5                       5240           5.0           1.0      0.0  \n"
     ]
    }
   ],
   "source": [
    "#determine if a user adopted\n",
    "#criteria = 3 or more visits in any 7 day period\n",
    "\n",
    "#get a list of unique user IDs\n",
    "unique_users = usage.user_id.unique()\n",
    "\n",
    "#instantiate a dict to hold user adopted classification\n",
    "user_adopted ={}\n",
    "\n",
    "#loop over the unique users\n",
    "for u in unique_users:\n",
    "    #if user only ever signs on fewer than three times can't possible adobt\n",
    "    user_usage = usage[usage.user_id == u]\n",
    "    if len(user_usage)<3:\n",
    "        user_adopted[u]=0\n",
    "    else:\n",
    "        #resample to sum number of signons each day, fill missing days with 0\n",
    "        usage_day = user_usage.resample('D', on='time_stamp')['visited'].sum().fillna(0)\n",
    "        #calculate 7-day rolling sum and get max number of signons\n",
    "        usage_rolling = usage_day.rolling(7, min_periods=1).sum().max()\n",
    "        #if max value is >=3 then the user adopted otherwise they did not\n",
    "        if usage_rolling >= 3:\n",
    "            user_adopted[u]=1\n",
    "        else:\n",
    "            user_adopted[u]=0\n",
    "\n",
    "#convert dict to a dataframe, add adoption classification to user table\n",
    "user_adopted = pd.DataFrame.from_dict(user_adopted, orient='index')\n",
    "user_adopted.columns = ['adopted']\n",
    "user_adopted.index.name = 'user_id'\n",
    "\n",
    "users = users.join(user_adopted, how='left')\n",
    "#classify any user that had no usage data an not-adopted\n",
    "users['adopted'] = users['adopted'].fillna(0)\n",
    "\n",
    "print(users.info())\n",
    "print(users.head())\n"
   ]
  },
  {
   "cell_type": "code",
   "execution_count": 11,
   "metadata": {},
   "outputs": [
    {
     "name": "stdout",
     "output_type": "stream",
     "text": [
      "0.0    10398\n",
      "1.0     1602\n",
      "Name: adopted, dtype: int64\n"
     ]
    }
   ],
   "source": [
    "#print the number of users who adopted and who did not (1=adopted)\n",
    "print(users.adopted.value_counts())"
   ]
  },
  {
   "cell_type": "code",
   "execution_count": 17,
   "metadata": {},
   "outputs": [
    {
     "data": {
      "image/png": "[encoded data removed]",
      "text/plain": [
       "<matplotlib.figure.Figure at 0x2732c685358>"
      ]
     },
     "metadata": {},
     "output_type": "display_data"
    }
   ],
   "source": [
    "#plot histograms of the number visits\n",
    "adopted = users[users.adopted == 1]\n",
    "not_adopted = users[users.adopted == 0]\n",
    "\n",
    "fig, (ax1, ax2) = plt.subplots(nrows=2, ncols=1, figsize = (8,8))\n",
    "ax1.hist(adopted['total_visits'], bins=20)\n",
    "ax1.set_title('Adopted Users')\n",
    "\n",
    "ax2.hist(not_adopted['total_visits'], bins=20)\n",
    "ax2.set_title('Not-adopted Users')\n",
    "\n",
    "plt.show()"
   ]
  },
  {
   "cell_type": "code",
   "execution_count": 16,
   "metadata": {},
   "outputs": [
    {
     "data": {
      "image/png": "[encoded data removed]",
      "text/plain": [
       "<matplotlib.figure.Figure at 0x2733df0bf60>"
      ]
     },
     "metadata": {},
     "output_type": "display_data"
    }
   ],
   "source": [
    "#plot histograms of the number of days between first and last session time\n",
    "adopted = users[users.adopted == 1]\n",
    "not_adopted = users[users.adopted == 0]\n",
    "\n",
    "fig, (ax1, ax2) = plt.subplots(nrows=2, ncols=1, figsize = (8,8))\n",
    "ax1.hist(adopted['time_between'], bins=20)\n",
    "ax1.set_title('Adopted Users')\n",
    "\n",
    "ax2.hist(not_adopted['time_between'], bins=20)\n",
    "ax2.set_title('Not-adopted Users')\n",
    "\n",
    "plt.show()"
   ]
  },
  {
   "cell_type": "markdown",
   "metadata": {},
   "source": [
    "## Prediction"
   ]
  },
  {
   "cell_type": "code",
   "execution_count": 6,
   "metadata": {
    "collapsed": true
   },
   "outputs": [],
   "source": [
    "#split data into labels and features\n",
    "labels = users.adopted\n",
    "features = users[['creation_source', 'opted_in_to_mailing_list', 'enabled_for_marketing_drip', 'time_between', 'total_visits']]#\n",
    "features = pd.get_dummies(features, drop_first=True)\n",
    "\n",
    "#split labels and features into trainig and test set\n",
    "x_train, x_test, y_train, y_test = train_test_split(features, labels, test_size = 0.2, random_state=24)"
   ]
  },
  {
   "cell_type": "markdown",
   "metadata": {},
   "source": [
    "I chose not to use any creation_time, last_session_creation_time, name, or email because these fields would not be relevant to future users. I also chose not to use the org_id or invited_by_user_id as these are actually categorical variables and there would be so many categories for each I felt as though it would dilute the prediction."
   ]
  },
  {
   "cell_type": "code",
   "execution_count": 8,
   "metadata": {},
   "outputs": [
    {
     "name": "stdout",
     "output_type": "stream",
     "text": [
      "Score: 0.988\n",
      "             precision    recall  f1-score   support\n",
      "\n",
      "        0.0       0.99      1.00      0.99      2073\n",
      "        1.0       0.98      0.93      0.95       327\n",
      "\n",
      "avg / total       0.99      0.99      0.99      2400\n",
      "\n"
     ]
    }
   ],
   "source": [
    "#instantiate logistic regression\n",
    "lr = LogisticRegression()\n",
    "#fit the model\n",
    "lr.fit(x_train, y_train)\n",
    "\n",
    "#predict the outcomes of the test set\n",
    "y_pred = lr.predict(x_test)\n",
    "\n",
    "#print accuracy score and classification report\n",
    "print('Score:', round(lr.score(x_test, y_test), 3))\n",
    "print(classification_report(y_test, y_pred))\n"
   ]
  },
  {
   "cell_type": "code",
   "execution_count": 9,
   "metadata": {},
   "outputs": [
    {
     "name": "stdout",
     "output_type": "stream",
     "text": [
      "opted_in_to_mailing_list: 0.714\n",
      "enabled_for_marketing_drip: 0.66\n",
      "time_between: 0.943\n",
      "total_visits: 3.695\n",
      "creation_source_ORG_INVITE: 0.686\n",
      "creation_source_PERSONAL_PROJECTS: 0.889\n",
      "creation_source_SIGNUP: 0.907\n",
      "creation_source_SIGNUP_GOOGLE_AUTH: 0.742\n"
     ]
    }
   ],
   "source": [
    "#Print the odds ratios for each of the model parameters\n",
    "cols = list(x_test.columns)\n",
    "coefs = lr.coef_\n",
    "\n",
    "for x, y in zip(cols, coefs[0]):\n",
    "    print(x + \": \" + str(round(np.exp(y), 3)))\n"
   ]
  },
  {
   "cell_type": "code",
   "execution_count": 10,
   "metadata": {},
   "outputs": [
    {
     "data": {
      "image/png": "[encoded data removed]",
      "text/plain": [
       "<matplotlib.figure.Figure at 0x2733df60cf8>"
      ]
     },
     "metadata": {},
     "output_type": "display_data"
    }
   ],
   "source": [
    "#plot the ROC curve for this model\n",
    "y_pred_prob = lr.predict_proba(x_test)[:,1]\n",
    "fpr, tpr, thresh = roc_curve(y_test, y_pred_prob)\n",
    "\n",
    "plt.plot([0,1], [0,1], 'k--')\n",
    "\n",
    "plt.plot(fpr, tpr, label='Logistic Regression')\n",
    "plt.xlabel('False Positive')\n",
    "plt.ylabel('True Positive')\n",
    "plt.legend()\n",
    "plt.show()\n"
   ]
  },
  {
   "cell_type": "markdown",
   "metadata": {},
   "source": [
    "## Findings"
   ]
  },
  {
   "cell_type": "markdown",
   "metadata": {},
   "source": [
    "The first decision I made with the data was to fill in as many of the missing values as possible. The field last_session_creation_time had a number of missing values which I interpreted as a user never having signed on. I decided to fill this with the initial account creation time. Using the usage summary table, I calculated the time between the first and last session for each user, and the total number of sessions for each user. Using the criteria set forth, 3 visits in any 7 day period, I also calculated whether a user can be considered to have adopted or not. Exploring the data I found it interesting, although not unsurprising, that adopted users tended to sign on many more times that non-adopted users and that the time between sign-ons is much more variable for adopted users.\n",
    "\n",
    "I chose to use a logistic regression to attempt to predict adoption. I only used five fields creation_source, opted_in_to_mailing_list, enabled_for_marketing_drip, time_between, total_visits as features choosing not to use creation_time, last_session_creation_time, name, or email because these fields would not be relevant to future users. This model correctly predicted adoption 98.8% of the time. Exploring the coefficients of the parameters we can look at the odd-ratios for each parameter. Total visits has the most influence on the model. For every subsequent visit, the odds that a user adopts increases almost 3.7 times. Of the creation sources, signing up via the website increases the odds of adoption the most, although they are all fairly similar.\n"
   ]
  },
  {
   "cell_type": "code",
   "execution_count": null,
   "metadata": {
    "collapsed": true
   },
   "outputs": [],
   "source": []
  }
 ],
 "metadata": {
  "kernelspec": {
   "display_name": "Python 3",
   "language": "python",
   "name": "python3"
  },
  "language_info": {
   "codemirror_mode": {
    "name": "ipython",
    "version": 3
   },
   "file_extension": ".py",
   "mimetype": "text/x-python",
   "name": "python",
   "nbconvert_exporter": "python",
   "pygments_lexer": "ipython3",
   "version": "3.6.3"
  }
 },
 "nbformat": 4,
 "nbformat_minor": 2
}
